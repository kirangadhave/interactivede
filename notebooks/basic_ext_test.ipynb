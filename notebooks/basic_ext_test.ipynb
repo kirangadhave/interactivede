{
 "cells": [
  {
   "cell_type": "code",
   "execution_count": 10,
   "id": "72941bfe-605c-42f6-9d07-50c399a601fa",
   "metadata": {
    "id": "88062990-8f54-428d-8c72-4b871723d497",
    "slideshow": {
     "slide_type": "fragment"
    },
    "tags": [],
    "trrack": "{\"nodes\":{\"88062990-8f54-428d-8c72-4b871723d497\":{\"id\":\"88062990-8f54-428d-8c72-4b871723d497\",\"label\":\"Root\",\"children\":[\"98d4b037-1bc0-4acb-938c-b4401aaa023b\"],\"level\":0,\"meta\":{\"createdOn\":1675911535277,\"eventType\":\"Root\"},\"state\":{\"type\":\"checkpoint\",\"val\":{\"msg\":\"Hello, World!\"}}},\"98d4b037-1bc0-4acb-938c-b4401aaa023b\":{\"id\":\"98d4b037-1bc0-4acb-938c-b4401aaa023b\",\"label\":\"Update message\",\"children\":[],\"parent\":\"88062990-8f54-428d-8c72-4b871723d497\",\"meta\":{\"createdOn\":1676009155474,\"eventType\":\"test\"},\"sideEffects\":{\"do\":[],\"undo\":[]},\"state\":{\"type\":\"checkpoint\",\"val\":{\"msg\":\"World\"}},\"level\":1}},\"root\":\"88062990-8f54-428d-8c72-4b871723d497\",\"current\":\"98d4b037-1bc0-4acb-938c-b4401aaa023b\"}"
   },
   "outputs": [],
   "source": [
    "import altair as alt\n",
    "import pandas as pd"
   ]
  },
  {
   "cell_type": "code",
   "execution_count": 11,
   "id": "406a7ad1-83fb-4c26-9776-b822152ad3a9",
   "metadata": {
    "tags": [],
    "trrack": "{\"nodes\":{\"c129fdfb-780d-4746-ad79-7bd6f1bba07c\":{\"id\":\"c129fdfb-780d-4746-ad79-7bd6f1bba07c\",\"label\":\"Root\",\"children\":[\"28b75f47-bbe9-42bc-8e2e-f2fca1c8c307\"],\"level\":0,\"meta\":{\"createdOn\":1676053326631,\"eventType\":\"Root\"},\"state\":{\"type\":\"checkpoint\",\"val\":{\"msg\":\"Hello, World!\"}}},\"28b75f47-bbe9-42bc-8e2e-f2fca1c8c307\":{\"id\":\"28b75f47-bbe9-42bc-8e2e-f2fca1c8c307\",\"label\":\"Update 4\",\"children\":[\"7322ec8b-fdf9-4b83-85f2-52690209e04d\"],\"parent\":\"c129fdfb-780d-4746-ad79-7bd6f1bba07c\",\"meta\":{\"createdOn\":1676053327700,\"eventType\":\"test\"},\"sideEffects\":{\"do\":[],\"undo\":[]},\"state\":{\"type\":\"checkpoint\",\"val\":{\"msg\":\"Hello\"}},\"level\":1},\"7322ec8b-fdf9-4b83-85f2-52690209e04d\":{\"id\":\"7322ec8b-fdf9-4b83-85f2-52690209e04d\",\"label\":\"Update 5\",\"children\":[\"ef6ddd3d-9646-4b57-abde-0e6792a69da7\",\"c61b4ec2-c1ec-4a02-9979-f61abb496206\"],\"parent\":\"28b75f47-bbe9-42bc-8e2e-f2fca1c8c307\",\"meta\":{\"createdOn\":1676053327873,\"eventType\":\"test\"},\"sideEffects\":{\"do\":[],\"undo\":[]},\"state\":{\"type\":\"patch\",\"val\":[],\"checkpointRef\":\"28b75f47-bbe9-42bc-8e2e-f2fca1c8c307\"},\"level\":2},\"ef6ddd3d-9646-4b57-abde-0e6792a69da7\":{\"id\":\"ef6ddd3d-9646-4b57-abde-0e6792a69da7\",\"label\":\"Update 6\",\"children\":[\"fc3d46fd-6759-4905-ab71-790ef20d70e0\",\"168689dd-c5ac-4af4-a7e4-ec512e6b04da\"],\"parent\":\"7322ec8b-fdf9-4b83-85f2-52690209e04d\",\"meta\":{\"createdOn\":1676053328059,\"eventType\":\"test\"},\"sideEffects\":{\"do\":[],\"undo\":[]},\"state\":{\"type\":\"patch\",\"val\":[],\"checkpointRef\":\"28b75f47-bbe9-42bc-8e2e-f2fca1c8c307\"},\"level\":3},\"fc3d46fd-6759-4905-ab71-790ef20d70e0\":{\"id\":\"fc3d46fd-6759-4905-ab71-790ef20d70e0\",\"label\":\"Update 7\",\"children\":[\"fbe74dcb-f9f9-43c7-850a-aee16cec3358\"],\"parent\":\"ef6ddd3d-9646-4b57-abde-0e6792a69da7\",\"meta\":{\"createdOn\":1676053328221,\"eventType\":\"test\"},\"sideEffects\":{\"do\":[],\"undo\":[]},\"state\":{\"type\":\"patch\",\"val\":[],\"checkpointRef\":\"28b75f47-bbe9-42bc-8e2e-f2fca1c8c307\"},\"level\":4},\"fbe74dcb-f9f9-43c7-850a-aee16cec3358\":{\"id\":\"fbe74dcb-f9f9-43c7-850a-aee16cec3358\",\"label\":\"Update 8\",\"children\":[],\"parent\":\"fc3d46fd-6759-4905-ab71-790ef20d70e0\",\"meta\":{\"createdOn\":1676053328399,\"eventType\":\"test\"},\"sideEffects\":{\"do\":[],\"undo\":[]},\"state\":{\"type\":\"patch\",\"val\":[],\"checkpointRef\":\"28b75f47-bbe9-42bc-8e2e-f2fca1c8c307\"},\"level\":5},\"c61b4ec2-c1ec-4a02-9979-f61abb496206\":{\"id\":\"c61b4ec2-c1ec-4a02-9979-f61abb496206\",\"label\":\"Update 1\",\"children\":[\"0ae563cd-5840-44b4-bf86-3f3ece85712a\"],\"parent\":\"7322ec8b-fdf9-4b83-85f2-52690209e04d\",\"meta\":{\"createdOn\":1676086929010,\"eventType\":\"test\"},\"sideEffects\":{\"do\":[],\"undo\":[]},\"state\":{\"type\":\"patch\",\"val\":[],\"checkpointRef\":\"28b75f47-bbe9-42bc-8e2e-f2fca1c8c307\"},\"level\":3},\"0ae563cd-5840-44b4-bf86-3f3ece85712a\":{\"id\":\"0ae563cd-5840-44b4-bf86-3f3ece85712a\",\"label\":\"Update 2\",\"children\":[\"2f7efe7a-6bfa-4526-a6f9-6f4f7abf6330\"],\"parent\":\"c61b4ec2-c1ec-4a02-9979-f61abb496206\",\"meta\":{\"createdOn\":1676086929534,\"eventType\":\"test\"},\"sideEffects\":{\"do\":[],\"undo\":[]},\"state\":{\"type\":\"patch\",\"val\":[],\"checkpointRef\":\"28b75f47-bbe9-42bc-8e2e-f2fca1c8c307\"},\"level\":4},\"2f7efe7a-6bfa-4526-a6f9-6f4f7abf6330\":{\"id\":\"2f7efe7a-6bfa-4526-a6f9-6f4f7abf6330\",\"label\":\"Update 3\",\"children\":[],\"parent\":\"0ae563cd-5840-44b4-bf86-3f3ece85712a\",\"meta\":{\"createdOn\":1676086929937,\"eventType\":\"test\"},\"sideEffects\":{\"do\":[],\"undo\":[]},\"state\":{\"type\":\"patch\",\"val\":[],\"checkpointRef\":\"28b75f47-bbe9-42bc-8e2e-f2fca1c8c307\"},\"level\":5},\"168689dd-c5ac-4af4-a7e4-ec512e6b04da\":{\"id\":\"168689dd-c5ac-4af4-a7e4-ec512e6b04da\",\"label\":\"Update 4\",\"children\":[\"eeb8efe8-9284-470d-b7d6-450b472d7ecd\"],\"parent\":\"ef6ddd3d-9646-4b57-abde-0e6792a69da7\",\"meta\":{\"createdOn\":1676086933166,\"eventType\":\"test\"},\"sideEffects\":{\"do\":[],\"undo\":[]},\"state\":{\"type\":\"patch\",\"val\":[],\"checkpointRef\":\"28b75f47-bbe9-42bc-8e2e-f2fca1c8c307\"},\"level\":4},\"eeb8efe8-9284-470d-b7d6-450b472d7ecd\":{\"id\":\"eeb8efe8-9284-470d-b7d6-450b472d7ecd\",\"label\":\"Update 5\",\"children\":[],\"parent\":\"168689dd-c5ac-4af4-a7e4-ec512e6b04da\",\"meta\":{\"createdOn\":1676086933885,\"eventType\":\"test\"},\"sideEffects\":{\"do\":[],\"undo\":[]},\"state\":{\"type\":\"patch\",\"val\":[],\"checkpointRef\":\"28b75f47-bbe9-42bc-8e2e-f2fca1c8c307\"},\"level\":5}},\"root\":\"c129fdfb-780d-4746-ad79-7bd6f1bba07c\",\"current\":\"2f7efe7a-6bfa-4526-a6f9-6f4f7abf6330\"}"
   },
   "outputs": [
    {
     "name": "stdout",
     "output_type": "stream",
     "text": [
      "Test\n"
     ]
    },
    {
     "data": {
      "text/html": [
       "\n",
       "<div id=\"altair-viz-427e850ca444441c832466a28b0d72b9\"></div>\n",
       "<script type=\"text/javascript\">\n",
       "  var VEGA_DEBUG = (typeof VEGA_DEBUG == \"undefined\") ? {} : VEGA_DEBUG;\n",
       "  (function(spec, embedOpt){\n",
       "    let outputDiv = document.currentScript.previousElementSibling;\n",
       "    if (outputDiv.id !== \"altair-viz-427e850ca444441c832466a28b0d72b9\") {\n",
       "      outputDiv = document.getElementById(\"altair-viz-427e850ca444441c832466a28b0d72b9\");\n",
       "    }\n",
       "    const paths = {\n",
       "      \"vega\": \"https://cdn.jsdelivr.net/npm//vega@5?noext\",\n",
       "      \"vega-lib\": \"https://cdn.jsdelivr.net/npm//vega-lib?noext\",\n",
       "      \"vega-lite\": \"https://cdn.jsdelivr.net/npm//vega-lite@4.17.0?noext\",\n",
       "      \"vega-embed\": \"https://cdn.jsdelivr.net/npm//vega-embed@6?noext\",\n",
       "    };\n",
       "\n",
       "    function maybeLoadScript(lib, version) {\n",
       "      var key = `${lib.replace(\"-\", \"\")}_version`;\n",
       "      return (VEGA_DEBUG[key] == version) ?\n",
       "        Promise.resolve(paths[lib]) :\n",
       "        new Promise(function(resolve, reject) {\n",
       "          var s = document.createElement('script');\n",
       "          document.getElementsByTagName(\"head\")[0].appendChild(s);\n",
       "          s.async = true;\n",
       "          s.onload = () => {\n",
       "            VEGA_DEBUG[key] = version;\n",
       "            return resolve(paths[lib]);\n",
       "          };\n",
       "          s.onerror = () => reject(`Error loading script: ${paths[lib]}`);\n",
       "          s.src = paths[lib];\n",
       "        });\n",
       "    }\n",
       "\n",
       "    function showError(err) {\n",
       "      outputDiv.innerHTML = `<div class=\"error\" style=\"color:red;\">${err}</div>`;\n",
       "      throw err;\n",
       "    }\n",
       "\n",
       "    function displayChart(vegaEmbed) {\n",
       "      vegaEmbed(outputDiv, spec, embedOpt)\n",
       "        .catch(err => showError(`Javascript Error: ${err.message}<br>This usually means there's a typo in your chart specification. See the javascript console for the full traceback.`));\n",
       "    }\n",
       "\n",
       "    if(typeof define === \"function\" && define.amd) {\n",
       "      requirejs.config({paths});\n",
       "      require([\"vega-embed\"], displayChart, err => showError(`Error loading script: ${err.message}`));\n",
       "    } else {\n",
       "      maybeLoadScript(\"vega\", \"5\")\n",
       "        .then(() => maybeLoadScript(\"vega-lite\", \"4.17.0\"))\n",
       "        .then(() => maybeLoadScript(\"vega-embed\", \"6\"))\n",
       "        .catch(showError)\n",
       "        .then(() => displayChart(vegaEmbed));\n",
       "    }\n",
       "  })({\"config\": {\"view\": {\"continuousWidth\": 400, \"continuousHeight\": 300}}, \"data\": {\"name\": \"data-c2a3e89ba9d5d1687d5e8c28d630a033\"}, \"mark\": \"bar\", \"encoding\": {\"x\": {\"field\": \"a\", \"type\": \"nominal\"}, \"y\": {\"field\": \"b\", \"type\": \"quantitative\"}}, \"selection\": {\"selector005\": {\"type\": \"interval\", \"bind\": \"scales\", \"encodings\": [\"x\", \"y\"]}}, \"$schema\": \"https://vega.github.io/schema/vega-lite/v4.17.0.json\", \"datasets\": {\"data-c2a3e89ba9d5d1687d5e8c28d630a033\": [{\"a\": \"A\", \"b\": 28}, {\"a\": \"B\", \"b\": 55}, {\"a\": \"C\", \"b\": 43}, {\"a\": \"D\", \"b\": 91}, {\"a\": \"E\", \"b\": 81}, {\"a\": \"F\", \"b\": 53}, {\"a\": \"G\", \"b\": 19}, {\"a\": \"H\", \"b\": 87}, {\"a\": \"I\", \"b\": 52}]}}, {\"mode\": \"vega-lite\"});\n",
       "</script>"
      ],
      "text/plain": [
       "alt.Chart(...)"
      ]
     },
     "execution_count": 11,
     "metadata": {},
     "output_type": "execute_result"
    }
   ],
   "source": [
    "source = pd.DataFrame({\n",
    "    'a': ['A', 'B', 'C', 'D', 'E', 'F', 'G', 'H', 'I'],\n",
    "    'b': [28, 55, 43, 91, 81, 53, 19, 87, 52]\n",
    "})\n",
    "\n",
    "print(\"Test\")\n",
    "\n",
    "alt.Chart(source).mark_bar().encode(\n",
    "    x='a',\n",
    "    y='b'\n",
    ").interactive()"
   ]
  },
  {
   "cell_type": "code",
   "execution_count": 12,
   "id": "28087138-ebd1-4dc8-8c5e-9ba71ae3de7f",
   "metadata": {
    "trrack": "{\"nodes\":{\"a7045348-6027-4f91-8de6-1536074c9090\":{\"id\":\"a7045348-6027-4f91-8de6-1536074c9090\",\"label\":\"Root\",\"children\":[],\"level\":0,\"meta\":{\"createdOn\":1676053142066,\"eventType\":\"Root\"},\"state\":{\"type\":\"checkpoint\",\"val\":{\"msg\":\"Hello, World!\"}}}},\"root\":\"a7045348-6027-4f91-8de6-1536074c9090\",\"current\":\"a7045348-6027-4f91-8de6-1536074c9090\"}"
   },
   "outputs": [
    {
     "name": "stdout",
     "output_type": "stream",
     "text": [
      "Test\n"
     ]
    },
    {
     "data": {
      "text/html": [
       "\n",
       "<div id=\"altair-viz-029193b14314472ba273426d6bcbfc8e\"></div>\n",
       "<script type=\"text/javascript\">\n",
       "  var VEGA_DEBUG = (typeof VEGA_DEBUG == \"undefined\") ? {} : VEGA_DEBUG;\n",
       "  (function(spec, embedOpt){\n",
       "    let outputDiv = document.currentScript.previousElementSibling;\n",
       "    if (outputDiv.id !== \"altair-viz-029193b14314472ba273426d6bcbfc8e\") {\n",
       "      outputDiv = document.getElementById(\"altair-viz-029193b14314472ba273426d6bcbfc8e\");\n",
       "    }\n",
       "    const paths = {\n",
       "      \"vega\": \"https://cdn.jsdelivr.net/npm//vega@5?noext\",\n",
       "      \"vega-lib\": \"https://cdn.jsdelivr.net/npm//vega-lib?noext\",\n",
       "      \"vega-lite\": \"https://cdn.jsdelivr.net/npm//vega-lite@4.17.0?noext\",\n",
       "      \"vega-embed\": \"https://cdn.jsdelivr.net/npm//vega-embed@6?noext\",\n",
       "    };\n",
       "\n",
       "    function maybeLoadScript(lib, version) {\n",
       "      var key = `${lib.replace(\"-\", \"\")}_version`;\n",
       "      return (VEGA_DEBUG[key] == version) ?\n",
       "        Promise.resolve(paths[lib]) :\n",
       "        new Promise(function(resolve, reject) {\n",
       "          var s = document.createElement('script');\n",
       "          document.getElementsByTagName(\"head\")[0].appendChild(s);\n",
       "          s.async = true;\n",
       "          s.onload = () => {\n",
       "            VEGA_DEBUG[key] = version;\n",
       "            return resolve(paths[lib]);\n",
       "          };\n",
       "          s.onerror = () => reject(`Error loading script: ${paths[lib]}`);\n",
       "          s.src = paths[lib];\n",
       "        });\n",
       "    }\n",
       "\n",
       "    function showError(err) {\n",
       "      outputDiv.innerHTML = `<div class=\"error\" style=\"color:red;\">${err}</div>`;\n",
       "      throw err;\n",
       "    }\n",
       "\n",
       "    function displayChart(vegaEmbed) {\n",
       "      vegaEmbed(outputDiv, spec, embedOpt)\n",
       "        .catch(err => showError(`Javascript Error: ${err.message}<br>This usually means there's a typo in your chart specification. See the javascript console for the full traceback.`));\n",
       "    }\n",
       "\n",
       "    if(typeof define === \"function\" && define.amd) {\n",
       "      requirejs.config({paths});\n",
       "      require([\"vega-embed\"], displayChart, err => showError(`Error loading script: ${err.message}`));\n",
       "    } else {\n",
       "      maybeLoadScript(\"vega\", \"5\")\n",
       "        .then(() => maybeLoadScript(\"vega-lite\", \"4.17.0\"))\n",
       "        .then(() => maybeLoadScript(\"vega-embed\", \"6\"))\n",
       "        .catch(showError)\n",
       "        .then(() => displayChart(vegaEmbed));\n",
       "    }\n",
       "  })({\"config\": {\"view\": {\"continuousWidth\": 400, \"continuousHeight\": 300}}, \"data\": {\"name\": \"data-c2a3e89ba9d5d1687d5e8c28d630a033\"}, \"mark\": \"bar\", \"encoding\": {\"x\": {\"field\": \"a\", \"type\": \"nominal\"}, \"y\": {\"field\": \"b\", \"type\": \"quantitative\"}}, \"selection\": {\"selector006\": {\"type\": \"interval\", \"bind\": \"scales\", \"encodings\": [\"x\", \"y\"]}}, \"$schema\": \"https://vega.github.io/schema/vega-lite/v4.17.0.json\", \"datasets\": {\"data-c2a3e89ba9d5d1687d5e8c28d630a033\": [{\"a\": \"A\", \"b\": 28}, {\"a\": \"B\", \"b\": 55}, {\"a\": \"C\", \"b\": 43}, {\"a\": \"D\", \"b\": 91}, {\"a\": \"E\", \"b\": 81}, {\"a\": \"F\", \"b\": 53}, {\"a\": \"G\", \"b\": 19}, {\"a\": \"H\", \"b\": 87}, {\"a\": \"I\", \"b\": 52}]}}, {\"mode\": \"vega-lite\"});\n",
       "</script>"
      ],
      "text/plain": [
       "alt.Chart(...)"
      ]
     },
     "execution_count": 12,
     "metadata": {},
     "output_type": "execute_result"
    }
   ],
   "source": [
    "source = pd.DataFrame({\n",
    "    'a': ['A', 'B', 'C', 'D', 'E', 'F', 'G', 'H', 'I'],\n",
    "    'b': [28, 55, 43, 91, 81, 53, 19, 87, 52]\n",
    "})\n",
    "\n",
    "print(\"Test\")\n",
    "\n",
    "alt.Chart(source).mark_bar().encode(\n",
    "    x='a',\n",
    "    y='b'\n",
    ").interactive()"
   ]
  },
  {
   "cell_type": "code",
   "execution_count": null,
   "id": "92c257f2-f3de-4248-89bd-b7e017b42d21",
   "metadata": {
    "trrack": "{\"nodes\":{\"535db8a9-3e03-409b-ad2c-4fc30fff385d\":{\"id\":\"535db8a9-3e03-409b-ad2c-4fc30fff385d\",\"label\":\"Root\",\"children\":[],\"level\":0,\"meta\":{\"createdOn\":1676087098900,\"eventType\":\"Root\"},\"state\":{\"type\":\"checkpoint\",\"val\":{\"msg\":\"Hello, World!\"}}}},\"root\":\"535db8a9-3e03-409b-ad2c-4fc30fff385d\",\"current\":\"535db8a9-3e03-409b-ad2c-4fc30fff385d\"}"
   },
   "outputs": [],
   "source": []
  }
 ],
 "metadata": {
  "kernelspec": {
   "display_name": "Python 3 (ipykernel)",
   "language": "python",
   "name": "python3"
  },
  "language_info": {
   "codemirror_mode": {
    "name": "ipython",
    "version": 3
   },
   "file_extension": ".py",
   "mimetype": "text/x-python",
   "name": "python",
   "nbconvert_exporter": "python",
   "pygments_lexer": "ipython3",
   "version": "3.11.1"
  }
 },
 "nbformat": 4,
 "nbformat_minor": 5
}
