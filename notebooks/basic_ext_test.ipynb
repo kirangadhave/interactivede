{
 "cells": [
  {
   "cell_type": "code",
   "execution_count": null,
   "id": "72941bfe-605c-42f6-9d07-50c399a601fa",
   "metadata": {
    "id": "88062990-8f54-428d-8c72-4b871723d497",
    "slideshow": {
     "slide_type": "fragment"
    },
    "tags": [],
    "trrack": "{\"nodes\":{\"88062990-8f54-428d-8c72-4b871723d497\":{\"id\":\"88062990-8f54-428d-8c72-4b871723d497\",\"label\":\"Root\",\"children\":[\"98d4b037-1bc0-4acb-938c-b4401aaa023b\"],\"level\":0,\"meta\":{\"createdOn\":1675911535277,\"eventType\":\"Root\"},\"state\":{\"type\":\"checkpoint\",\"val\":{\"msg\":\"Hello, World!\"}}},\"98d4b037-1bc0-4acb-938c-b4401aaa023b\":{\"id\":\"98d4b037-1bc0-4acb-938c-b4401aaa023b\",\"label\":\"Update message\",\"children\":[],\"parent\":\"88062990-8f54-428d-8c72-4b871723d497\",\"meta\":{\"createdOn\":1676009155474,\"eventType\":\"test\"},\"sideEffects\":{\"do\":[],\"undo\":[]},\"state\":{\"type\":\"checkpoint\",\"val\":{\"msg\":\"World\"}},\"level\":1}},\"root\":\"88062990-8f54-428d-8c72-4b871723d497\",\"current\":\"98d4b037-1bc0-4acb-938c-b4401aaa023b\"}"
   },
   "outputs": [],
   "source": [
    "import altair as alt\n",
    "import pandas as pd\n",
    "import pprint\n",
    "import trracked_cells"
   ]
  },
  {
   "cell_type": "code",
   "execution_count": null,
   "id": "3c40d68a-aabc-4c6a-ac2d-ec786ec7220f",
   "metadata": {
    "trrack": "{\"nodes\":{\"3fe1fb82-6f5d-4f9c-ba02-e325156dc17a\":{\"id\":\"3fe1fb82-6f5d-4f9c-ba02-e325156dc17a\",\"label\":\"Root\",\"children\":[],\"level\":0,\"meta\":{\"createdOn\":1676430416160,\"eventType\":\"Root\"},\"state\":{\"type\":\"checkpoint\",\"val\":{\"msg\":\"Hello, World!\",\"sels\":[]}}}},\"root\":\"3fe1fb82-6f5d-4f9c-ba02-e325156dc17a\",\"current\":\"3fe1fb82-6f5d-4f9c-ba02-e325156dc17a\"}"
   },
   "outputs": [],
   "source": [
    "trracked_cells.init()"
   ]
  },
  {
   "cell_type": "code",
   "execution_count": null,
   "id": "802daea3-591b-41db-aea7-e4236be967bf",
   "metadata": {
    "tags": [],
    "trrack": "{\"nodes\":{\"8d6f962b-8941-4517-8908-066aee4165ff\":{\"id\":\"8d6f962b-8941-4517-8908-066aee4165ff\",\"label\":\"Root\",\"children\":[],\"level\":0,\"meta\":{\"createdOn\":1676423176232,\"eventType\":\"Root\"},\"state\":{\"type\":\"checkpoint\",\"val\":{\"msg\":\"Hello, World!\",\"sels\":[]}}}},\"root\":\"8d6f962b-8941-4517-8908-066aee4165ff\",\"current\":\"8d6f962b-8941-4517-8908-066aee4165ff\"}"
   },
   "outputs": [],
   "source": [
    "penguins_url = \"https://raw.githubusercontent.com/vega/vega/master/docs/data/penguins.json\"\n",
    "df = pd.read_json(penguins_url)\n",
    "df.head()"
   ]
  },
  {
   "cell_type": "code",
   "execution_count": null,
   "id": "406a7ad1-83fb-4c26-9776-b822152ad3a9",
   "metadata": {
    "tags": [],
    "trrack": "{\"nodes\":{\"91d1d81c-5f7e-471a-9ee2-7a52917c34b0\":{\"id\":\"91d1d81c-5f7e-471a-9ee2-7a52917c34b0\",\"label\":\"Root\",\"children\":[],\"level\":0,\"meta\":{\"createdOn\":1676423174703,\"eventType\":\"Root\"},\"state\":{\"type\":\"checkpoint\",\"val\":{\"msg\":\"Hello, World!\",\"sels\":[]}}}},\"root\":\"91d1d81c-5f7e-471a-9ee2-7a52917c34b0\",\"current\":\"91d1d81c-5f7e-471a-9ee2-7a52917c34b0\"}"
   },
   "outputs": [],
   "source": [
    "brush = alt.selection_interval(name='brush')\n",
    "\n",
    "chart1 = alt.Chart(penguins_url).mark_point().encode(\n",
    "    x=alt.X('Beak Length (mm):Q', scale=alt.Scale(zero=False)),\n",
    "    y=alt.Y('Beak Depth (mm):Q', scale=alt.Scale(zero=False)),\n",
    "    color=alt.condition(brush, 'Species:N', alt.value('lightgray'))\n",
    ").properties(\n",
    "    height=300,\n",
    "    width=300,\n",
    ").add_selection(\n",
    "    brush\n",
    ")\n",
    "chart1"
   ]
  },
  {
   "cell_type": "code",
   "execution_count": null,
   "id": "3533348c-00a8-4281-8a4d-a0c5b3163b38",
   "metadata": {},
   "outputs": [],
   "source": []
  }
 ],
 "metadata": {
  "kernelspec": {
   "display_name": "Python 3 (ipykernel)",
   "language": "python",
   "name": "python3"
  },
  "language_info": {
   "codemirror_mode": {
    "name": "ipython",
    "version": 3
   },
   "file_extension": ".py",
   "mimetype": "text/x-python",
   "name": "python",
   "nbconvert_exporter": "python",
   "pygments_lexer": "ipython3",
   "version": "3.11.1"
  }
 },
 "nbformat": 4,
 "nbformat_minor": 5
}
