{
 "cells": [
  {
   "cell_type": "code",
   "execution_count": 1,
   "id": "650f3648-8d18-4230-be32-7ffbee1e7d72",
   "metadata": {
    "tags": [],
    "trrack_graph": "{\"nodes\":{\"0a160663-b147-4e3c-9d67-0084dabb7dad\":{\"id\":\"0a160663-b147-4e3c-9d67-0084dabb7dad\",\"label\":\"Root\",\"children\":[],\"level\":0,\"meta\":{\"createdOn\":1677264831980,\"eventType\":\"Root\"},\"state\":{\"type\":\"checkpoint\",\"val\":{\"msg\":\"Hello, World!\",\"interactions\":[]}}}},\"root\":\"0a160663-b147-4e3c-9d67-0084dabb7dad\",\"current\":\"0a160663-b147-4e3c-9d67-0084dabb7dad\"}"
   },
   "outputs": [
    {
     "name": "stdout",
     "output_type": "stream",
     "text": [
      "Extension enabled for altair\n"
     ]
    }
   ],
   "source": [
    "import altair as alt\n",
    "import pandas as pd\n",
    "import panel as pn\n",
    "import interactivede.ide as IDE\n",
    "IDE.enable('altair')"
   ]
  },
  {
   "cell_type": "code",
   "execution_count": 2,
   "id": "7446975b-527f-4745-8a69-a8bf9c237992",
   "metadata": {
    "tags": [],
    "trrack_graph": "{\"nodes\":{\"7bed9d14-578c-473d-9835-f738677c9e3a\":{\"id\":\"7bed9d14-578c-473d-9835-f738677c9e3a\",\"label\":\"Root\",\"children\":[],\"level\":0,\"meta\":{\"createdOn\":1677276828370,\"eventType\":\"Root\"},\"state\":{\"type\":\"checkpoint\",\"val\":{\"msg\":\"Hello, World!\",\"interactions\":[]}}}},\"root\":\"7bed9d14-578c-473d-9835-f738677c9e3a\",\"current\":\"7bed9d14-578c-473d-9835-f738677c9e3a\"}"
   },
   "outputs": [
    {
     "data": {
      "application/vnd.trrack+json": {
       "application/vnd.trrack.graph+json": "7446975b-527f-4745-8a69-a8bf9c237992",
       "text/html": "<div>\n<style scoped>\n    .dataframe tbody tr th:only-of-type {\n        vertical-align: middle;\n    }\n\n    .dataframe tbody tr th {\n        vertical-align: top;\n    }\n\n    .dataframe thead th {\n        text-align: right;\n    }\n</style>\n<table border=\"1\" class=\"dataframe\">\n  <thead>\n    <tr style=\"text-align: right;\">\n      <th></th>\n      <th>Species</th>\n      <th>Island</th>\n      <th>Beak Length (mm)</th>\n      <th>Beak Depth (mm)</th>\n      <th>Flipper Length (mm)</th>\n      <th>Body Mass (g)</th>\n      <th>Sex</th>\n    </tr>\n  </thead>\n  <tbody>\n    <tr>\n      <th>0</th>\n      <td>Adelie</td>\n      <td>Torgersen</td>\n      <td>39.1</td>\n      <td>18.7</td>\n      <td>181.0</td>\n      <td>3750.0</td>\n      <td>MALE</td>\n    </tr>\n    <tr>\n      <th>1</th>\n      <td>Adelie</td>\n      <td>Torgersen</td>\n      <td>39.5</td>\n      <td>17.4</td>\n      <td>186.0</td>\n      <td>3800.0</td>\n      <td>FEMALE</td>\n    </tr>\n    <tr>\n      <th>2</th>\n      <td>Adelie</td>\n      <td>Torgersen</td>\n      <td>40.3</td>\n      <td>18.0</td>\n      <td>195.0</td>\n      <td>3250.0</td>\n      <td>FEMALE</td>\n    </tr>\n    <tr>\n      <th>3</th>\n      <td>Adelie</td>\n      <td>Torgersen</td>\n      <td>NaN</td>\n      <td>NaN</td>\n      <td>NaN</td>\n      <td>NaN</td>\n      <td>None</td>\n    </tr>\n    <tr>\n      <th>4</th>\n      <td>Adelie</td>\n      <td>Torgersen</td>\n      <td>36.7</td>\n      <td>19.3</td>\n      <td>193.0</td>\n      <td>3450.0</td>\n      <td>FEMALE</td>\n    </tr>\n  </tbody>\n</table>\n</div>",
       "text/plain": "  Species     Island  Beak Length (mm)  Beak Depth (mm)  Flipper Length (mm)  \\\n0  Adelie  Torgersen              39.1             18.7                181.0   \n1  Adelie  Torgersen              39.5             17.4                186.0   \n2  Adelie  Torgersen              40.3             18.0                195.0   \n3  Adelie  Torgersen               NaN              NaN                  NaN   \n4  Adelie  Torgersen              36.7             19.3                193.0   \n\n   Body Mass (g)     Sex  \n0         3750.0    MALE  \n1         3800.0  FEMALE  \n2         3250.0  FEMALE  \n3            NaN    None  \n4         3450.0  FEMALE  "
      }
     },
     "execution_count": 2,
     "metadata": {},
     "output_type": "execute_result"
    }
   ],
   "source": [
    "penguins_url = \"https://raw.githubusercontent.com/vega/vega/master/docs/data/penguins.json\"\n",
    "df = pd.read_json(penguins_url)\n",
    "df.head()"
   ]
  },
  {
   "cell_type": "code",
   "execution_count": 3,
   "id": "9f086973-41b2-43a8-b7c1-789860728a97",
   "metadata": {
    "tags": [],
    "trrack_graph": "{\"nodes\":{\"c9882920-a24e-4be8-9f32-2e39ec007e93\":{\"id\":\"c9882920-a24e-4be8-9f32-2e39ec007e93\",\"label\":\"Root\",\"children\":[\"48b0614e-affe-4afe-9ab1-748d3bfce0de\"],\"level\":0,\"meta\":{\"createdOn\":1677369534157,\"eventType\":\"Root\"},\"state\":{\"type\":\"checkpoint\",\"val\":{\"msg\":\"Hello, World!\",\"interactions\":[]}}},\"48b0614e-affe-4afe-9ab1-748d3bfce0de\":{\"id\":\"48b0614e-affe-4afe-9ab1-748d3bfce0de\",\"label\":\"selection_interval\",\"children\":[\"480f4159-529d-4d58-b25a-1b8beef88b4e\"],\"parent\":\"c9882920-a24e-4be8-9f32-2e39ec007e93\",\"meta\":{\"createdOn\":1677384562486,\"eventType\":\"interaction\"},\"sideEffects\":{\"do\":[],\"undo\":[]},\"state\":{\"type\":\"checkpoint\",\"val\":{\"msg\":\"Hello, World!\",\"interactions\":[{\"id\":\"a2fc4934-980a-4325-bc84-dfebba0a0c5c\",\"type\":\"selection_interval\",\"name\":\"brush\",\"dataset\":\"\",\"params\":{\"selection\":{\"Beak Length (mm)\":[42.08,50.816],\"Beak Depth (mm)\":[14.620000000000001,16.240000000000002]},\"x\":[90,168],\"y\":[160,205]}}]}},\"level\":1},\"480f4159-529d-4d58-b25a-1b8beef88b4e\":{\"id\":\"480f4159-529d-4d58-b25a-1b8beef88b4e\",\"label\":\"selection_interval\",\"children\":[\"c78a2b79-4382-4503-84ca-b37456123e7c\"],\"parent\":\"48b0614e-affe-4afe-9ab1-748d3bfce0de\",\"meta\":{\"createdOn\":1677384565602,\"eventType\":\"interaction\"},\"sideEffects\":{\"do\":[],\"undo\":[]},\"state\":{\"type\":\"checkpoint\",\"val\":{\"msg\":\"Hello, World!\",\"interactions\":[{\"id\":\"a2fc4934-980a-4325-bc84-dfebba0a0c5c\",\"type\":\"selection_interval\",\"name\":\"brush\",\"dataset\":\"\",\"params\":{\"selection\":{\"Beak Length (mm)\":[42.08,50.816],\"Beak Depth (mm)\":[14.620000000000001,16.240000000000002]},\"x\":[90,168],\"y\":[160,205]}},{\"id\":\"5a76ba1b-5215-48ee-b3d8-3cbbcdd07a2b\",\"type\":\"selection_interval\",\"name\":\"brush\",\"dataset\":\"\",\"params\":{\"selection\":{\"Beak Length (mm)\":[35.808,44.544],\"Beak Depth (mm)\":[17.752,19.372]},\"x\":[34,112],\"y\":[73,118]}}]}},\"level\":2},\"c78a2b79-4382-4503-84ca-b37456123e7c\":{\"id\":\"c78a2b79-4382-4503-84ca-b37456123e7c\",\"label\":\"selection_interval\",\"children\":[],\"parent\":\"480f4159-529d-4d58-b25a-1b8beef88b4e\",\"meta\":{\"createdOn\":1677384568623,\"eventType\":\"interaction\"},\"sideEffects\":{\"do\":[],\"undo\":[]},\"state\":{\"type\":\"checkpoint\",\"val\":{\"msg\":\"Hello, World!\",\"interactions\":[{\"id\":\"a2fc4934-980a-4325-bc84-dfebba0a0c5c\",\"type\":\"selection_interval\",\"name\":\"brush\",\"dataset\":\"\",\"params\":{\"selection\":{\"Beak Length (mm)\":[42.08,50.816],\"Beak Depth (mm)\":[14.620000000000001,16.240000000000002]},\"x\":[90,168],\"y\":[160,205]}},{\"id\":\"5a76ba1b-5215-48ee-b3d8-3cbbcdd07a2b\",\"type\":\"selection_interval\",\"name\":\"brush\",\"dataset\":\"\",\"params\":{\"selection\":{\"Beak Length (mm)\":[35.808,44.544],\"Beak Depth (mm)\":[17.752,19.372]},\"x\":[34,112],\"y\":[73,118]}},{\"id\":\"52acd59b-e496-4318-9a84-3685585c7183\",\"type\":\"selection_interval\",\"name\":\"brush\",\"dataset\":\"\",\"params\":{\"selection\":{\"Beak Length (mm)\":[37.04,52.608],\"Beak Depth (mm)\":[14.332,20.056]},\"x\":[45,184],\"y\":[213,54]}}]}},\"level\":3}},\"root\":\"c9882920-a24e-4be8-9f32-2e39ec007e93\",\"current\":\"c78a2b79-4382-4503-84ca-b37456123e7c\"}"
   },
   "outputs": [
    {
     "data": {
      "application/vnd.trrack+json": {
       "application/vnd.trrack.graph+json": "9f086973-41b2-43a8-b7c1-789860728a97",
       "application/vnd.vegalite.v4+json": {
        "$schema": "https://vega.github.io/schema/vega-lite/v4.17.0.json",
        "config": {
         "view": {
          "continuousHeight": 300,
          "continuousWidth": 400
         }
        },
        "data": {
         "name": "data-d7e7d3a006e30f7795655a1e9e190879"
        },
        "datasets": {
         "data-d7e7d3a006e30f7795655a1e9e190879": [
          {
           "Beak Depth (mm)": 18.7,
           "Beak Length (mm)": 39.1,
           "Body Mass (g)": 3750,
           "Flipper Length (mm)": 181,
           "Island": "Torgersen",
           "Sex": "MALE",
           "Species": "Adelie"
          },
          {
           "Beak Depth (mm)": 17.4,
           "Beak Length (mm)": 39.5,
           "Body Mass (g)": 3800,
           "Flipper Length (mm)": 186,
           "Island": "Torgersen",
           "Sex": "FEMALE",
           "Species": "Adelie"
          },
          {
           "Beak Depth (mm)": 18,
           "Beak Length (mm)": 40.3,
           "Body Mass (g)": 3250,
           "Flipper Length (mm)": 195,
           "Island": "Torgersen",
           "Sex": "FEMALE",
           "Species": "Adelie"
          },
          {
           "Beak Depth (mm)": null,
           "Beak Length (mm)": null,
           "Body Mass (g)": null,
           "Flipper Length (mm)": null,
           "Island": "Torgersen",
           "Sex": null,
           "Species": "Adelie"
          },
          {
           "Beak Depth (mm)": 19.3,
           "Beak Length (mm)": 36.7,
           "Body Mass (g)": 3450,
           "Flipper Length (mm)": 193,
           "Island": "Torgersen",
           "Sex": "FEMALE",
           "Species": "Adelie"
          },
          {
           "Beak Depth (mm)": 20.6,
           "Beak Length (mm)": 39.3,
           "Body Mass (g)": 3650,
           "Flipper Length (mm)": 190,
           "Island": "Torgersen",
           "Sex": "MALE",
           "Species": "Adelie"
          },
          {
           "Beak Depth (mm)": 17.8,
           "Beak Length (mm)": 38.9,
           "Body Mass (g)": 3625,
           "Flipper Length (mm)": 181,
           "Island": "Torgersen",
           "Sex": "FEMALE",
           "Species": "Adelie"
          },
          {
           "Beak Depth (mm)": 19.6,
           "Beak Length (mm)": 39.2,
           "Body Mass (g)": 4675,
           "Flipper Length (mm)": 195,
           "Island": "Torgersen",
           "Sex": "MALE",
           "Species": "Adelie"
          },
          {
           "Beak Depth (mm)": 18.1,
           "Beak Length (mm)": 34.1,
           "Body Mass (g)": 3475,
           "Flipper Length (mm)": 193,
           "Island": "Torgersen",
           "Sex": null,
           "Species": "Adelie"
          },
          {
           "Beak Depth (mm)": 20.2,
           "Beak Length (mm)": 42,
           "Body Mass (g)": 4250,
           "Flipper Length (mm)": 190,
           "Island": "Torgersen",
           "Sex": null,
           "Species": "Adelie"
          },
          {
           "Beak Depth (mm)": 17.1,
           "Beak Length (mm)": 37.8,
           "Body Mass (g)": 3300,
           "Flipper Length (mm)": 186,
           "Island": "Torgersen",
           "Sex": null,
           "Species": "Adelie"
          },
          {
           "Beak Depth (mm)": 17.3,
           "Beak Length (mm)": 37.8,
           "Body Mass (g)": 3700,
           "Flipper Length (mm)": 180,
           "Island": "Torgersen",
           "Sex": null,
           "Species": "Adelie"
          },
          {
           "Beak Depth (mm)": 17.6,
           "Beak Length (mm)": 41.1,
           "Body Mass (g)": 3200,
           "Flipper Length (mm)": 182,
           "Island": "Torgersen",
           "Sex": "FEMALE",
           "Species": "Adelie"
          },
          {
           "Beak Depth (mm)": 21.2,
           "Beak Length (mm)": 38.6,
           "Body Mass (g)": 3800,
           "Flipper Length (mm)": 191,
           "Island": "Torgersen",
           "Sex": "MALE",
           "Species": "Adelie"
          },
          {
           "Beak Depth (mm)": 21.1,
           "Beak Length (mm)": 34.6,
           "Body Mass (g)": 4400,
           "Flipper Length (mm)": 198,
           "Island": "Torgersen",
           "Sex": "MALE",
           "Species": "Adelie"
          },
          {
           "Beak Depth (mm)": 17.8,
           "Beak Length (mm)": 36.6,
           "Body Mass (g)": 3700,
           "Flipper Length (mm)": 185,
           "Island": "Torgersen",
           "Sex": "FEMALE",
           "Species": "Adelie"
          },
          {
           "Beak Depth (mm)": 19,
           "Beak Length (mm)": 38.7,
           "Body Mass (g)": 3450,
           "Flipper Length (mm)": 195,
           "Island": "Torgersen",
           "Sex": "FEMALE",
           "Species": "Adelie"
          },
          {
           "Beak Depth (mm)": 20.7,
           "Beak Length (mm)": 42.5,
           "Body Mass (g)": 4500,
           "Flipper Length (mm)": 197,
           "Island": "Torgersen",
           "Sex": "MALE",
           "Species": "Adelie"
          },
          {
           "Beak Depth (mm)": 18.4,
           "Beak Length (mm)": 34.4,
           "Body Mass (g)": 3325,
           "Flipper Length (mm)": 184,
           "Island": "Torgersen",
           "Sex": "FEMALE",
           "Species": "Adelie"
          },
          {
           "Beak Depth (mm)": 21.5,
           "Beak Length (mm)": 46,
           "Body Mass (g)": 4200,
           "Flipper Length (mm)": 194,
           "Island": "Torgersen",
           "Sex": "MALE",
           "Species": "Adelie"
          },
          {
           "Beak Depth (mm)": 18.3,
           "Beak Length (mm)": 37.8,
           "Body Mass (g)": 3400,
           "Flipper Length (mm)": 174,
           "Island": "Biscoe",
           "Sex": "FEMALE",
           "Species": "Adelie"
          },
          {
           "Beak Depth (mm)": 18.7,
           "Beak Length (mm)": 37.7,
           "Body Mass (g)": 3600,
           "Flipper Length (mm)": 180,
           "Island": "Biscoe",
           "Sex": "MALE",
           "Species": "Adelie"
          },
          {
           "Beak Depth (mm)": 19.2,
           "Beak Length (mm)": 35.9,
           "Body Mass (g)": 3800,
           "Flipper Length (mm)": 189,
           "Island": "Biscoe",
           "Sex": "FEMALE",
           "Species": "Adelie"
          },
          {
           "Beak Depth (mm)": 18.1,
           "Beak Length (mm)": 38.2,
           "Body Mass (g)": 3950,
           "Flipper Length (mm)": 185,
           "Island": "Biscoe",
           "Sex": "MALE",
           "Species": "Adelie"
          },
          {
           "Beak Depth (mm)": 17.2,
           "Beak Length (mm)": 38.8,
           "Body Mass (g)": 3800,
           "Flipper Length (mm)": 180,
           "Island": "Biscoe",
           "Sex": "MALE",
           "Species": "Adelie"
          },
          {
           "Beak Depth (mm)": 18.9,
           "Beak Length (mm)": 35.3,
           "Body Mass (g)": 3800,
           "Flipper Length (mm)": 187,
           "Island": "Biscoe",
           "Sex": "FEMALE",
           "Species": "Adelie"
          },
          {
           "Beak Depth (mm)": 18.6,
           "Beak Length (mm)": 40.6,
           "Body Mass (g)": 3550,
           "Flipper Length (mm)": 183,
           "Island": "Biscoe",
           "Sex": "MALE",
           "Species": "Adelie"
          },
          {
           "Beak Depth (mm)": 17.9,
           "Beak Length (mm)": 40.5,
           "Body Mass (g)": 3200,
           "Flipper Length (mm)": 187,
           "Island": "Biscoe",
           "Sex": "FEMALE",
           "Species": "Adelie"
          },
          {
           "Beak Depth (mm)": 18.6,
           "Beak Length (mm)": 37.9,
           "Body Mass (g)": 3150,
           "Flipper Length (mm)": 172,
           "Island": "Biscoe",
           "Sex": "FEMALE",
           "Species": "Adelie"
          },
          {
           "Beak Depth (mm)": 18.9,
           "Beak Length (mm)": 40.5,
           "Body Mass (g)": 3950,
           "Flipper Length (mm)": 180,
           "Island": "Biscoe",
           "Sex": "MALE",
           "Species": "Adelie"
          },
          {
           "Beak Depth (mm)": 16.7,
           "Beak Length (mm)": 39.5,
           "Body Mass (g)": 3250,
           "Flipper Length (mm)": 178,
           "Island": "Dream",
           "Sex": "FEMALE",
           "Species": "Adelie"
          },
          {
           "Beak Depth (mm)": 18.1,
           "Beak Length (mm)": 37.2,
           "Body Mass (g)": 3900,
           "Flipper Length (mm)": 178,
           "Island": "Dream",
           "Sex": "MALE",
           "Species": "Adelie"
          },
          {
           "Beak Depth (mm)": 17.8,
           "Beak Length (mm)": 39.5,
           "Body Mass (g)": 3300,
           "Flipper Length (mm)": 188,
           "Island": "Dream",
           "Sex": "FEMALE",
           "Species": "Adelie"
          },
          {
           "Beak Depth (mm)": 18.9,
           "Beak Length (mm)": 40.9,
           "Body Mass (g)": 3900,
           "Flipper Length (mm)": 184,
           "Island": "Dream",
           "Sex": "MALE",
           "Species": "Adelie"
          },
          {
           "Beak Depth (mm)": 17,
           "Beak Length (mm)": 36.4,
           "Body Mass (g)": 3325,
           "Flipper Length (mm)": 195,
           "Island": "Dream",
           "Sex": "FEMALE",
           "Species": "Adelie"
          },
          {
           "Beak Depth (mm)": 21.1,
           "Beak Length (mm)": 39.2,
           "Body Mass (g)": 4150,
           "Flipper Length (mm)": 196,
           "Island": "Dream",
           "Sex": "MALE",
           "Species": "Adelie"
          },
          {
           "Beak Depth (mm)": 20,
           "Beak Length (mm)": 38.8,
           "Body Mass (g)": 3950,
           "Flipper Length (mm)": 190,
           "Island": "Dream",
           "Sex": "MALE",
           "Species": "Adelie"
          },
          {
           "Beak Depth (mm)": 18.5,
           "Beak Length (mm)": 42.2,
           "Body Mass (g)": 3550,
           "Flipper Length (mm)": 180,
           "Island": "Dream",
           "Sex": "FEMALE",
           "Species": "Adelie"
          },
          {
           "Beak Depth (mm)": 19.3,
           "Beak Length (mm)": 37.6,
           "Body Mass (g)": 3300,
           "Flipper Length (mm)": 181,
           "Island": "Dream",
           "Sex": "FEMALE",
           "Species": "Adelie"
          },
          {
           "Beak Depth (mm)": 19.1,
           "Beak Length (mm)": 39.8,
           "Body Mass (g)": 4650,
           "Flipper Length (mm)": 184,
           "Island": "Dream",
           "Sex": "MALE",
           "Species": "Adelie"
          },
          {
           "Beak Depth (mm)": 18,
           "Beak Length (mm)": 36.5,
           "Body Mass (g)": 3150,
           "Flipper Length (mm)": 182,
           "Island": "Dream",
           "Sex": "FEMALE",
           "Species": "Adelie"
          },
          {
           "Beak Depth (mm)": 18.4,
           "Beak Length (mm)": 40.8,
           "Body Mass (g)": 3900,
           "Flipper Length (mm)": 195,
           "Island": "Dream",
           "Sex": "MALE",
           "Species": "Adelie"
          },
          {
           "Beak Depth (mm)": 18.5,
           "Beak Length (mm)": 36,
           "Body Mass (g)": 3100,
           "Flipper Length (mm)": 186,
           "Island": "Dream",
           "Sex": "FEMALE",
           "Species": "Adelie"
          },
          {
           "Beak Depth (mm)": 19.7,
           "Beak Length (mm)": 44.1,
           "Body Mass (g)": 4400,
           "Flipper Length (mm)": 196,
           "Island": "Dream",
           "Sex": "MALE",
           "Species": "Adelie"
          },
          {
           "Beak Depth (mm)": 16.9,
           "Beak Length (mm)": 37,
           "Body Mass (g)": 3000,
           "Flipper Length (mm)": 185,
           "Island": "Dream",
           "Sex": "FEMALE",
           "Species": "Adelie"
          },
          {
           "Beak Depth (mm)": 18.8,
           "Beak Length (mm)": 39.6,
           "Body Mass (g)": 4600,
           "Flipper Length (mm)": 190,
           "Island": "Dream",
           "Sex": "MALE",
           "Species": "Adelie"
          },
          {
           "Beak Depth (mm)": 19,
           "Beak Length (mm)": 41.1,
           "Body Mass (g)": 3425,
           "Flipper Length (mm)": 182,
           "Island": "Dream",
           "Sex": "MALE",
           "Species": "Adelie"
          },
          {
           "Beak Depth (mm)": 18.9,
           "Beak Length (mm)": 37.5,
           "Body Mass (g)": 2975,
           "Flipper Length (mm)": 179,
           "Island": "Dream",
           "Sex": null,
           "Species": "Adelie"
          },
          {
           "Beak Depth (mm)": 17.9,
           "Beak Length (mm)": 36,
           "Body Mass (g)": 3450,
           "Flipper Length (mm)": 190,
           "Island": "Dream",
           "Sex": "FEMALE",
           "Species": "Adelie"
          },
          {
           "Beak Depth (mm)": 21.2,
           "Beak Length (mm)": 42.3,
           "Body Mass (g)": 4150,
           "Flipper Length (mm)": 191,
           "Island": "Dream",
           "Sex": "MALE",
           "Species": "Adelie"
          },
          {
           "Beak Depth (mm)": 17.7,
           "Beak Length (mm)": 39.6,
           "Body Mass (g)": 3500,
           "Flipper Length (mm)": 186,
           "Island": "Biscoe",
           "Sex": "FEMALE",
           "Species": "Adelie"
          },
          {
           "Beak Depth (mm)": 18.9,
           "Beak Length (mm)": 40.1,
           "Body Mass (g)": 4300,
           "Flipper Length (mm)": 188,
           "Island": "Biscoe",
           "Sex": "MALE",
           "Species": "Adelie"
          },
          {
           "Beak Depth (mm)": 17.9,
           "Beak Length (mm)": 35,
           "Body Mass (g)": 3450,
           "Flipper Length (mm)": 190,
           "Island": "Biscoe",
           "Sex": "FEMALE",
           "Species": "Adelie"
          },
          {
           "Beak Depth (mm)": 19.5,
           "Beak Length (mm)": 42,
           "Body Mass (g)": 4050,
           "Flipper Length (mm)": 200,
           "Island": "Biscoe",
           "Sex": "MALE",
           "Species": "Adelie"
          },
          {
           "Beak Depth (mm)": 18.1,
           "Beak Length (mm)": 34.5,
           "Body Mass (g)": 2900,
           "Flipper Length (mm)": 187,
           "Island": "Biscoe",
           "Sex": "FEMALE",
           "Species": "Adelie"
          },
          {
           "Beak Depth (mm)": 18.6,
           "Beak Length (mm)": 41.4,
           "Body Mass (g)": 3700,
           "Flipper Length (mm)": 191,
           "Island": "Biscoe",
           "Sex": "MALE",
           "Species": "Adelie"
          },
          {
           "Beak Depth (mm)": 17.5,
           "Beak Length (mm)": 39,
           "Body Mass (g)": 3550,
           "Flipper Length (mm)": 186,
           "Island": "Biscoe",
           "Sex": "FEMALE",
           "Species": "Adelie"
          },
          {
           "Beak Depth (mm)": 18.8,
           "Beak Length (mm)": 40.6,
           "Body Mass (g)": 3800,
           "Flipper Length (mm)": 193,
           "Island": "Biscoe",
           "Sex": "MALE",
           "Species": "Adelie"
          },
          {
           "Beak Depth (mm)": 16.6,
           "Beak Length (mm)": 36.5,
           "Body Mass (g)": 2850,
           "Flipper Length (mm)": 181,
           "Island": "Biscoe",
           "Sex": "FEMALE",
           "Species": "Adelie"
          },
          {
           "Beak Depth (mm)": 19.1,
           "Beak Length (mm)": 37.6,
           "Body Mass (g)": 3750,
           "Flipper Length (mm)": 194,
           "Island": "Biscoe",
           "Sex": "MALE",
           "Species": "Adelie"
          },
          {
           "Beak Depth (mm)": 16.9,
           "Beak Length (mm)": 35.7,
           "Body Mass (g)": 3150,
           "Flipper Length (mm)": 185,
           "Island": "Biscoe",
           "Sex": "FEMALE",
           "Species": "Adelie"
          },
          {
           "Beak Depth (mm)": 21.1,
           "Beak Length (mm)": 41.3,
           "Body Mass (g)": 4400,
           "Flipper Length (mm)": 195,
           "Island": "Biscoe",
           "Sex": "MALE",
           "Species": "Adelie"
          },
          {
           "Beak Depth (mm)": 17,
           "Beak Length (mm)": 37.6,
           "Body Mass (g)": 3600,
           "Flipper Length (mm)": 185,
           "Island": "Biscoe",
           "Sex": "FEMALE",
           "Species": "Adelie"
          },
          {
           "Beak Depth (mm)": 18.2,
           "Beak Length (mm)": 41.1,
           "Body Mass (g)": 4050,
           "Flipper Length (mm)": 192,
           "Island": "Biscoe",
           "Sex": "MALE",
           "Species": "Adelie"
          },
          {
           "Beak Depth (mm)": 17.1,
           "Beak Length (mm)": 36.4,
           "Body Mass (g)": 2850,
           "Flipper Length (mm)": 184,
           "Island": "Biscoe",
           "Sex": "FEMALE",
           "Species": "Adelie"
          },
          {
           "Beak Depth (mm)": 18,
           "Beak Length (mm)": 41.6,
           "Body Mass (g)": 3950,
           "Flipper Length (mm)": 192,
           "Island": "Biscoe",
           "Sex": "MALE",
           "Species": "Adelie"
          },
          {
           "Beak Depth (mm)": 16.2,
           "Beak Length (mm)": 35.5,
           "Body Mass (g)": 3350,
           "Flipper Length (mm)": 195,
           "Island": "Biscoe",
           "Sex": "FEMALE",
           "Species": "Adelie"
          },
          {
           "Beak Depth (mm)": 19.1,
           "Beak Length (mm)": 41.1,
           "Body Mass (g)": 4100,
           "Flipper Length (mm)": 188,
           "Island": "Biscoe",
           "Sex": "MALE",
           "Species": "Adelie"
          },
          {
           "Beak Depth (mm)": 16.6,
           "Beak Length (mm)": 35.9,
           "Body Mass (g)": 3050,
           "Flipper Length (mm)": 190,
           "Island": "Torgersen",
           "Sex": "FEMALE",
           "Species": "Adelie"
          },
          {
           "Beak Depth (mm)": 19.4,
           "Beak Length (mm)": 41.8,
           "Body Mass (g)": 4450,
           "Flipper Length (mm)": 198,
           "Island": "Torgersen",
           "Sex": "MALE",
           "Species": "Adelie"
          },
          {
           "Beak Depth (mm)": 19,
           "Beak Length (mm)": 33.5,
           "Body Mass (g)": 3600,
           "Flipper Length (mm)": 190,
           "Island": "Torgersen",
           "Sex": "FEMALE",
           "Species": "Adelie"
          },
          {
           "Beak Depth (mm)": 18.4,
           "Beak Length (mm)": 39.7,
           "Body Mass (g)": 3900,
           "Flipper Length (mm)": 190,
           "Island": "Torgersen",
           "Sex": "MALE",
           "Species": "Adelie"
          },
          {
           "Beak Depth (mm)": 17.2,
           "Beak Length (mm)": 39.6,
           "Body Mass (g)": 3550,
           "Flipper Length (mm)": 196,
           "Island": "Torgersen",
           "Sex": "FEMALE",
           "Species": "Adelie"
          },
          {
           "Beak Depth (mm)": 18.9,
           "Beak Length (mm)": 45.8,
           "Body Mass (g)": 4150,
           "Flipper Length (mm)": 197,
           "Island": "Torgersen",
           "Sex": "MALE",
           "Species": "Adelie"
          },
          {
           "Beak Depth (mm)": 17.5,
           "Beak Length (mm)": 35.5,
           "Body Mass (g)": 3700,
           "Flipper Length (mm)": 190,
           "Island": "Torgersen",
           "Sex": "FEMALE",
           "Species": "Adelie"
          },
          {
           "Beak Depth (mm)": 18.5,
           "Beak Length (mm)": 42.8,
           "Body Mass (g)": 4250,
           "Flipper Length (mm)": 195,
           "Island": "Torgersen",
           "Sex": "MALE",
           "Species": "Adelie"
          },
          {
           "Beak Depth (mm)": 16.8,
           "Beak Length (mm)": 40.9,
           "Body Mass (g)": 3700,
           "Flipper Length (mm)": 191,
           "Island": "Torgersen",
           "Sex": "FEMALE",
           "Species": "Adelie"
          },
          {
           "Beak Depth (mm)": 19.4,
           "Beak Length (mm)": 37.2,
           "Body Mass (g)": 3900,
           "Flipper Length (mm)": 184,
           "Island": "Torgersen",
           "Sex": "MALE",
           "Species": "Adelie"
          },
          {
           "Beak Depth (mm)": 16.1,
           "Beak Length (mm)": 36.2,
           "Body Mass (g)": 3550,
           "Flipper Length (mm)": 187,
           "Island": "Torgersen",
           "Sex": "FEMALE",
           "Species": "Adelie"
          },
          {
           "Beak Depth (mm)": 19.1,
           "Beak Length (mm)": 42.1,
           "Body Mass (g)": 4000,
           "Flipper Length (mm)": 195,
           "Island": "Torgersen",
           "Sex": "MALE",
           "Species": "Adelie"
          },
          {
           "Beak Depth (mm)": 17.2,
           "Beak Length (mm)": 34.6,
           "Body Mass (g)": 3200,
           "Flipper Length (mm)": 189,
           "Island": "Torgersen",
           "Sex": "FEMALE",
           "Species": "Adelie"
          },
          {
           "Beak Depth (mm)": 17.6,
           "Beak Length (mm)": 42.9,
           "Body Mass (g)": 4700,
           "Flipper Length (mm)": 196,
           "Island": "Torgersen",
           "Sex": "MALE",
           "Species": "Adelie"
          },
          {
           "Beak Depth (mm)": 18.8,
           "Beak Length (mm)": 36.7,
           "Body Mass (g)": 3800,
           "Flipper Length (mm)": 187,
           "Island": "Torgersen",
           "Sex": "FEMALE",
           "Species": "Adelie"
          },
          {
           "Beak Depth (mm)": 19.4,
           "Beak Length (mm)": 35.1,
           "Body Mass (g)": 4200,
           "Flipper Length (mm)": 193,
           "Island": "Torgersen",
           "Sex": "MALE",
           "Species": "Adelie"
          },
          {
           "Beak Depth (mm)": 17.8,
           "Beak Length (mm)": 37.3,
           "Body Mass (g)": 3350,
           "Flipper Length (mm)": 191,
           "Island": "Dream",
           "Sex": "FEMALE",
           "Species": "Adelie"
          },
          {
           "Beak Depth (mm)": 20.3,
           "Beak Length (mm)": 41.3,
           "Body Mass (g)": 3550,
           "Flipper Length (mm)": 194,
           "Island": "Dream",
           "Sex": "MALE",
           "Species": "Adelie"
          },
          {
           "Beak Depth (mm)": 19.5,
           "Beak Length (mm)": 36.3,
           "Body Mass (g)": 3800,
           "Flipper Length (mm)": 190,
           "Island": "Dream",
           "Sex": "MALE",
           "Species": "Adelie"
          },
          {
           "Beak Depth (mm)": 18.6,
           "Beak Length (mm)": 36.9,
           "Body Mass (g)": 3500,
           "Flipper Length (mm)": 189,
           "Island": "Dream",
           "Sex": "FEMALE",
           "Species": "Adelie"
          },
          {
           "Beak Depth (mm)": 19.2,
           "Beak Length (mm)": 38.3,
           "Body Mass (g)": 3950,
           "Flipper Length (mm)": 189,
           "Island": "Dream",
           "Sex": "MALE",
           "Species": "Adelie"
          },
          {
           "Beak Depth (mm)": 18.8,
           "Beak Length (mm)": 38.9,
           "Body Mass (g)": 3600,
           "Flipper Length (mm)": 190,
           "Island": "Dream",
           "Sex": "FEMALE",
           "Species": "Adelie"
          },
          {
           "Beak Depth (mm)": 18,
           "Beak Length (mm)": 35.7,
           "Body Mass (g)": 3550,
           "Flipper Length (mm)": 202,
           "Island": "Dream",
           "Sex": "FEMALE",
           "Species": "Adelie"
          },
          {
           "Beak Depth (mm)": 18.1,
           "Beak Length (mm)": 41.1,
           "Body Mass (g)": 4300,
           "Flipper Length (mm)": 205,
           "Island": "Dream",
           "Sex": "MALE",
           "Species": "Adelie"
          },
          {
           "Beak Depth (mm)": 17.1,
           "Beak Length (mm)": 34,
           "Body Mass (g)": 3400,
           "Flipper Length (mm)": 185,
           "Island": "Dream",
           "Sex": "FEMALE",
           "Species": "Adelie"
          },
          {
           "Beak Depth (mm)": 18.1,
           "Beak Length (mm)": 39.6,
           "Body Mass (g)": 4450,
           "Flipper Length (mm)": 186,
           "Island": "Dream",
           "Sex": "MALE",
           "Species": "Adelie"
          },
          {
           "Beak Depth (mm)": 17.3,
           "Beak Length (mm)": 36.2,
           "Body Mass (g)": 3300,
           "Flipper Length (mm)": 187,
           "Island": "Dream",
           "Sex": "FEMALE",
           "Species": "Adelie"
          },
          {
           "Beak Depth (mm)": 18.9,
           "Beak Length (mm)": 40.8,
           "Body Mass (g)": 4300,
           "Flipper Length (mm)": 208,
           "Island": "Dream",
           "Sex": "MALE",
           "Species": "Adelie"
          },
          {
           "Beak Depth (mm)": 18.6,
           "Beak Length (mm)": 38.1,
           "Body Mass (g)": 3700,
           "Flipper Length (mm)": 190,
           "Island": "Dream",
           "Sex": "FEMALE",
           "Species": "Adelie"
          },
          {
           "Beak Depth (mm)": 18.5,
           "Beak Length (mm)": 40.3,
           "Body Mass (g)": 4350,
           "Flipper Length (mm)": 196,
           "Island": "Dream",
           "Sex": "MALE",
           "Species": "Adelie"
          },
          {
           "Beak Depth (mm)": 16.1,
           "Beak Length (mm)": 33.1,
           "Body Mass (g)": 2900,
           "Flipper Length (mm)": 178,
           "Island": "Dream",
           "Sex": "FEMALE",
           "Species": "Adelie"
          },
          {
           "Beak Depth (mm)": 18.5,
           "Beak Length (mm)": 43.2,
           "Body Mass (g)": 4100,
           "Flipper Length (mm)": 192,
           "Island": "Dream",
           "Sex": "MALE",
           "Species": "Adelie"
          },
          {
           "Beak Depth (mm)": 17.9,
           "Beak Length (mm)": 35,
           "Body Mass (g)": 3725,
           "Flipper Length (mm)": 192,
           "Island": "Biscoe",
           "Sex": "FEMALE",
           "Species": "Adelie"
          },
          {
           "Beak Depth (mm)": 20,
           "Beak Length (mm)": 41,
           "Body Mass (g)": 4725,
           "Flipper Length (mm)": 203,
           "Island": "Biscoe",
           "Sex": "MALE",
           "Species": "Adelie"
          },
          {
           "Beak Depth (mm)": 16,
           "Beak Length (mm)": 37.7,
           "Body Mass (g)": 3075,
           "Flipper Length (mm)": 183,
           "Island": "Biscoe",
           "Sex": "FEMALE",
           "Species": "Adelie"
          },
          {
           "Beak Depth (mm)": 20,
           "Beak Length (mm)": 37.8,
           "Body Mass (g)": 4250,
           "Flipper Length (mm)": 190,
           "Island": "Biscoe",
           "Sex": "MALE",
           "Species": "Adelie"
          },
          {
           "Beak Depth (mm)": 18.6,
           "Beak Length (mm)": 37.9,
           "Body Mass (g)": 2925,
           "Flipper Length (mm)": 193,
           "Island": "Biscoe",
           "Sex": "FEMALE",
           "Species": "Adelie"
          },
          {
           "Beak Depth (mm)": 18.9,
           "Beak Length (mm)": 39.7,
           "Body Mass (g)": 3550,
           "Flipper Length (mm)": 184,
           "Island": "Biscoe",
           "Sex": "MALE",
           "Species": "Adelie"
          },
          {
           "Beak Depth (mm)": 17.2,
           "Beak Length (mm)": 38.6,
           "Body Mass (g)": 3750,
           "Flipper Length (mm)": 199,
           "Island": "Biscoe",
           "Sex": "FEMALE",
           "Species": "Adelie"
          },
          {
           "Beak Depth (mm)": 20,
           "Beak Length (mm)": 38.2,
           "Body Mass (g)": 3900,
           "Flipper Length (mm)": 190,
           "Island": "Biscoe",
           "Sex": "MALE",
           "Species": "Adelie"
          },
          {
           "Beak Depth (mm)": 17,
           "Beak Length (mm)": 38.1,
           "Body Mass (g)": 3175,
           "Flipper Length (mm)": 181,
           "Island": "Biscoe",
           "Sex": "FEMALE",
           "Species": "Adelie"
          },
          {
           "Beak Depth (mm)": 19,
           "Beak Length (mm)": 43.2,
           "Body Mass (g)": 4775,
           "Flipper Length (mm)": 197,
           "Island": "Biscoe",
           "Sex": "MALE",
           "Species": "Adelie"
          },
          {
           "Beak Depth (mm)": 16.5,
           "Beak Length (mm)": 38.1,
           "Body Mass (g)": 3825,
           "Flipper Length (mm)": 198,
           "Island": "Biscoe",
           "Sex": "FEMALE",
           "Species": "Adelie"
          },
          {
           "Beak Depth (mm)": 20.3,
           "Beak Length (mm)": 45.6,
           "Body Mass (g)": 4600,
           "Flipper Length (mm)": 191,
           "Island": "Biscoe",
           "Sex": "MALE",
           "Species": "Adelie"
          },
          {
           "Beak Depth (mm)": 17.7,
           "Beak Length (mm)": 39.7,
           "Body Mass (g)": 3200,
           "Flipper Length (mm)": 193,
           "Island": "Biscoe",
           "Sex": "FEMALE",
           "Species": "Adelie"
          },
          {
           "Beak Depth (mm)": 19.5,
           "Beak Length (mm)": 42.2,
           "Body Mass (g)": 4275,
           "Flipper Length (mm)": 197,
           "Island": "Biscoe",
           "Sex": "MALE",
           "Species": "Adelie"
          },
          {
           "Beak Depth (mm)": 20.7,
           "Beak Length (mm)": 39.6,
           "Body Mass (g)": 3900,
           "Flipper Length (mm)": 191,
           "Island": "Biscoe",
           "Sex": "FEMALE",
           "Species": "Adelie"
          },
          {
           "Beak Depth (mm)": 18.3,
           "Beak Length (mm)": 42.7,
           "Body Mass (g)": 4075,
           "Flipper Length (mm)": 196,
           "Island": "Biscoe",
           "Sex": "MALE",
           "Species": "Adelie"
          },
          {
           "Beak Depth (mm)": 17,
           "Beak Length (mm)": 38.6,
           "Body Mass (g)": 2900,
           "Flipper Length (mm)": 188,
           "Island": "Torgersen",
           "Sex": "FEMALE",
           "Species": "Adelie"
          },
          {
           "Beak Depth (mm)": 20.5,
           "Beak Length (mm)": 37.3,
           "Body Mass (g)": 3775,
           "Flipper Length (mm)": 199,
           "Island": "Torgersen",
           "Sex": "MALE",
           "Species": "Adelie"
          },
          {
           "Beak Depth (mm)": 17,
           "Beak Length (mm)": 35.7,
           "Body Mass (g)": 3350,
           "Flipper Length (mm)": 189,
           "Island": "Torgersen",
           "Sex": "FEMALE",
           "Species": "Adelie"
          },
          {
           "Beak Depth (mm)": 18.6,
           "Beak Length (mm)": 41.1,
           "Body Mass (g)": 3325,
           "Flipper Length (mm)": 189,
           "Island": "Torgersen",
           "Sex": "MALE",
           "Species": "Adelie"
          },
          {
           "Beak Depth (mm)": 17.2,
           "Beak Length (mm)": 36.2,
           "Body Mass (g)": 3150,
           "Flipper Length (mm)": 187,
           "Island": "Torgersen",
           "Sex": "FEMALE",
           "Species": "Adelie"
          },
          {
           "Beak Depth (mm)": 19.8,
           "Beak Length (mm)": 37.7,
           "Body Mass (g)": 3500,
           "Flipper Length (mm)": 198,
           "Island": "Torgersen",
           "Sex": "MALE",
           "Species": "Adelie"
          },
          {
           "Beak Depth (mm)": 17,
           "Beak Length (mm)": 40.2,
           "Body Mass (g)": 3450,
           "Flipper Length (mm)": 176,
           "Island": "Torgersen",
           "Sex": "FEMALE",
           "Species": "Adelie"
          },
          {
           "Beak Depth (mm)": 18.5,
           "Beak Length (mm)": 41.4,
           "Body Mass (g)": 3875,
           "Flipper Length (mm)": 202,
           "Island": "Torgersen",
           "Sex": "MALE",
           "Species": "Adelie"
          },
          {
           "Beak Depth (mm)": 15.9,
           "Beak Length (mm)": 35.2,
           "Body Mass (g)": 3050,
           "Flipper Length (mm)": 186,
           "Island": "Torgersen",
           "Sex": "FEMALE",
           "Species": "Adelie"
          },
          {
           "Beak Depth (mm)": 19,
           "Beak Length (mm)": 40.6,
           "Body Mass (g)": 4000,
           "Flipper Length (mm)": 199,
           "Island": "Torgersen",
           "Sex": "MALE",
           "Species": "Adelie"
          },
          {
           "Beak Depth (mm)": 17.6,
           "Beak Length (mm)": 38.8,
           "Body Mass (g)": 3275,
           "Flipper Length (mm)": 191,
           "Island": "Torgersen",
           "Sex": "FEMALE",
           "Species": "Adelie"
          },
          {
           "Beak Depth (mm)": 18.3,
           "Beak Length (mm)": 41.5,
           "Body Mass (g)": 4300,
           "Flipper Length (mm)": 195,
           "Island": "Torgersen",
           "Sex": "MALE",
           "Species": "Adelie"
          },
          {
           "Beak Depth (mm)": 17.1,
           "Beak Length (mm)": 39,
           "Body Mass (g)": 3050,
           "Flipper Length (mm)": 191,
           "Island": "Torgersen",
           "Sex": "FEMALE",
           "Species": "Adelie"
          },
          {
           "Beak Depth (mm)": 18,
           "Beak Length (mm)": 44.1,
           "Body Mass (g)": 4000,
           "Flipper Length (mm)": 210,
           "Island": "Torgersen",
           "Sex": "MALE",
           "Species": "Adelie"
          },
          {
           "Beak Depth (mm)": 17.9,
           "Beak Length (mm)": 38.5,
           "Body Mass (g)": 3325,
           "Flipper Length (mm)": 190,
           "Island": "Torgersen",
           "Sex": "FEMALE",
           "Species": "Adelie"
          },
          {
           "Beak Depth (mm)": 19.2,
           "Beak Length (mm)": 43.1,
           "Body Mass (g)": 3500,
           "Flipper Length (mm)": 197,
           "Island": "Torgersen",
           "Sex": "MALE",
           "Species": "Adelie"
          },
          {
           "Beak Depth (mm)": 18.5,
           "Beak Length (mm)": 36.8,
           "Body Mass (g)": 3500,
           "Flipper Length (mm)": 193,
           "Island": "Dream",
           "Sex": "FEMALE",
           "Species": "Adelie"
          },
          {
           "Beak Depth (mm)": 18.5,
           "Beak Length (mm)": 37.5,
           "Body Mass (g)": 4475,
           "Flipper Length (mm)": 199,
           "Island": "Dream",
           "Sex": "MALE",
           "Species": "Adelie"
          },
          {
           "Beak Depth (mm)": 17.6,
           "Beak Length (mm)": 38.1,
           "Body Mass (g)": 3425,
           "Flipper Length (mm)": 187,
           "Island": "Dream",
           "Sex": "FEMALE",
           "Species": "Adelie"
          },
          {
           "Beak Depth (mm)": 17.5,
           "Beak Length (mm)": 41.1,
           "Body Mass (g)": 3900,
           "Flipper Length (mm)": 190,
           "Island": "Dream",
           "Sex": "MALE",
           "Species": "Adelie"
          },
          {
           "Beak Depth (mm)": 17.5,
           "Beak Length (mm)": 35.6,
           "Body Mass (g)": 3175,
           "Flipper Length (mm)": 191,
           "Island": "Dream",
           "Sex": "FEMALE",
           "Species": "Adelie"
          },
          {
           "Beak Depth (mm)": 20.1,
           "Beak Length (mm)": 40.2,
           "Body Mass (g)": 3975,
           "Flipper Length (mm)": 200,
           "Island": "Dream",
           "Sex": "MALE",
           "Species": "Adelie"
          },
          {
           "Beak Depth (mm)": 16.5,
           "Beak Length (mm)": 37,
           "Body Mass (g)": 3400,
           "Flipper Length (mm)": 185,
           "Island": "Dream",
           "Sex": "FEMALE",
           "Species": "Adelie"
          },
          {
           "Beak Depth (mm)": 17.9,
           "Beak Length (mm)": 39.7,
           "Body Mass (g)": 4250,
           "Flipper Length (mm)": 193,
           "Island": "Dream",
           "Sex": "MALE",
           "Species": "Adelie"
          },
          {
           "Beak Depth (mm)": 17.1,
           "Beak Length (mm)": 40.2,
           "Body Mass (g)": 3400,
           "Flipper Length (mm)": 193,
           "Island": "Dream",
           "Sex": "FEMALE",
           "Species": "Adelie"
          },
          {
           "Beak Depth (mm)": 17.2,
           "Beak Length (mm)": 40.6,
           "Body Mass (g)": 3475,
           "Flipper Length (mm)": 187,
           "Island": "Dream",
           "Sex": "MALE",
           "Species": "Adelie"
          },
          {
           "Beak Depth (mm)": 15.5,
           "Beak Length (mm)": 32.1,
           "Body Mass (g)": 3050,
           "Flipper Length (mm)": 188,
           "Island": "Dream",
           "Sex": "FEMALE",
           "Species": "Adelie"
          },
          {
           "Beak Depth (mm)": 17,
           "Beak Length (mm)": 40.7,
           "Body Mass (g)": 3725,
           "Flipper Length (mm)": 190,
           "Island": "Dream",
           "Sex": "MALE",
           "Species": "Adelie"
          },
          {
           "Beak Depth (mm)": 16.8,
           "Beak Length (mm)": 37.3,
           "Body Mass (g)": 3000,
           "Flipper Length (mm)": 192,
           "Island": "Dream",
           "Sex": "FEMALE",
           "Species": "Adelie"
          },
          {
           "Beak Depth (mm)": 18.7,
           "Beak Length (mm)": 39,
           "Body Mass (g)": 3650,
           "Flipper Length (mm)": 185,
           "Island": "Dream",
           "Sex": "MALE",
           "Species": "Adelie"
          },
          {
           "Beak Depth (mm)": 18.6,
           "Beak Length (mm)": 39.2,
           "Body Mass (g)": 4250,
           "Flipper Length (mm)": 190,
           "Island": "Dream",
           "Sex": "MALE",
           "Species": "Adelie"
          },
          {
           "Beak Depth (mm)": 18.4,
           "Beak Length (mm)": 36.6,
           "Body Mass (g)": 3475,
           "Flipper Length (mm)": 184,
           "Island": "Dream",
           "Sex": "FEMALE",
           "Species": "Adelie"
          },
          {
           "Beak Depth (mm)": 17.8,
           "Beak Length (mm)": 36,
           "Body Mass (g)": 3450,
           "Flipper Length (mm)": 195,
           "Island": "Dream",
           "Sex": "FEMALE",
           "Species": "Adelie"
          },
          {
           "Beak Depth (mm)": 18.1,
           "Beak Length (mm)": 37.8,
           "Body Mass (g)": 3750,
           "Flipper Length (mm)": 193,
           "Island": "Dream",
           "Sex": "MALE",
           "Species": "Adelie"
          },
          {
           "Beak Depth (mm)": 17.1,
           "Beak Length (mm)": 36,
           "Body Mass (g)": 3700,
           "Flipper Length (mm)": 187,
           "Island": "Dream",
           "Sex": "FEMALE",
           "Species": "Adelie"
          },
          {
           "Beak Depth (mm)": 18.5,
           "Beak Length (mm)": 41.5,
           "Body Mass (g)": 4000,
           "Flipper Length (mm)": 201,
           "Island": "Dream",
           "Sex": "MALE",
           "Species": "Adelie"
          },
          {
           "Beak Depth (mm)": 17.9,
           "Beak Length (mm)": 46.5,
           "Body Mass (g)": 3500,
           "Flipper Length (mm)": 192,
           "Island": "Dream",
           "Sex": "FEMALE",
           "Species": "Chinstrap"
          },
          {
           "Beak Depth (mm)": 19.5,
           "Beak Length (mm)": 50,
           "Body Mass (g)": 3900,
           "Flipper Length (mm)": 196,
           "Island": "Dream",
           "Sex": "MALE",
           "Species": "Chinstrap"
          },
          {
           "Beak Depth (mm)": 19.2,
           "Beak Length (mm)": 51.3,
           "Body Mass (g)": 3650,
           "Flipper Length (mm)": 193,
           "Island": "Dream",
           "Sex": "MALE",
           "Species": "Chinstrap"
          },
          {
           "Beak Depth (mm)": 18.7,
           "Beak Length (mm)": 45.4,
           "Body Mass (g)": 3525,
           "Flipper Length (mm)": 188,
           "Island": "Dream",
           "Sex": "FEMALE",
           "Species": "Chinstrap"
          },
          {
           "Beak Depth (mm)": 19.8,
           "Beak Length (mm)": 52.7,
           "Body Mass (g)": 3725,
           "Flipper Length (mm)": 197,
           "Island": "Dream",
           "Sex": "MALE",
           "Species": "Chinstrap"
          },
          {
           "Beak Depth (mm)": 17.8,
           "Beak Length (mm)": 45.2,
           "Body Mass (g)": 3950,
           "Flipper Length (mm)": 198,
           "Island": "Dream",
           "Sex": "FEMALE",
           "Species": "Chinstrap"
          },
          {
           "Beak Depth (mm)": 18.2,
           "Beak Length (mm)": 46.1,
           "Body Mass (g)": 3250,
           "Flipper Length (mm)": 178,
           "Island": "Dream",
           "Sex": "FEMALE",
           "Species": "Chinstrap"
          },
          {
           "Beak Depth (mm)": 18.2,
           "Beak Length (mm)": 51.3,
           "Body Mass (g)": 3750,
           "Flipper Length (mm)": 197,
           "Island": "Dream",
           "Sex": "MALE",
           "Species": "Chinstrap"
          },
          {
           "Beak Depth (mm)": 18.9,
           "Beak Length (mm)": 46,
           "Body Mass (g)": 4150,
           "Flipper Length (mm)": 195,
           "Island": "Dream",
           "Sex": "FEMALE",
           "Species": "Chinstrap"
          },
          {
           "Beak Depth (mm)": 19.9,
           "Beak Length (mm)": 51.3,
           "Body Mass (g)": 3700,
           "Flipper Length (mm)": 198,
           "Island": "Dream",
           "Sex": "MALE",
           "Species": "Chinstrap"
          },
          {
           "Beak Depth (mm)": 17.8,
           "Beak Length (mm)": 46.6,
           "Body Mass (g)": 3800,
           "Flipper Length (mm)": 193,
           "Island": "Dream",
           "Sex": "FEMALE",
           "Species": "Chinstrap"
          },
          {
           "Beak Depth (mm)": 20.3,
           "Beak Length (mm)": 51.7,
           "Body Mass (g)": 3775,
           "Flipper Length (mm)": 194,
           "Island": "Dream",
           "Sex": "MALE",
           "Species": "Chinstrap"
          },
          {
           "Beak Depth (mm)": 17.3,
           "Beak Length (mm)": 47,
           "Body Mass (g)": 3700,
           "Flipper Length (mm)": 185,
           "Island": "Dream",
           "Sex": "FEMALE",
           "Species": "Chinstrap"
          },
          {
           "Beak Depth (mm)": 18.1,
           "Beak Length (mm)": 52,
           "Body Mass (g)": 4050,
           "Flipper Length (mm)": 201,
           "Island": "Dream",
           "Sex": "MALE",
           "Species": "Chinstrap"
          },
          {
           "Beak Depth (mm)": 17.1,
           "Beak Length (mm)": 45.9,
           "Body Mass (g)": 3575,
           "Flipper Length (mm)": 190,
           "Island": "Dream",
           "Sex": "FEMALE",
           "Species": "Chinstrap"
          },
          {
           "Beak Depth (mm)": 19.6,
           "Beak Length (mm)": 50.5,
           "Body Mass (g)": 4050,
           "Flipper Length (mm)": 201,
           "Island": "Dream",
           "Sex": "MALE",
           "Species": "Chinstrap"
          },
          {
           "Beak Depth (mm)": 20,
           "Beak Length (mm)": 50.3,
           "Body Mass (g)": 3300,
           "Flipper Length (mm)": 197,
           "Island": "Dream",
           "Sex": "MALE",
           "Species": "Chinstrap"
          },
          {
           "Beak Depth (mm)": 17.8,
           "Beak Length (mm)": 58,
           "Body Mass (g)": 3700,
           "Flipper Length (mm)": 181,
           "Island": "Dream",
           "Sex": "FEMALE",
           "Species": "Chinstrap"
          },
          {
           "Beak Depth (mm)": 18.6,
           "Beak Length (mm)": 46.4,
           "Body Mass (g)": 3450,
           "Flipper Length (mm)": 190,
           "Island": "Dream",
           "Sex": "FEMALE",
           "Species": "Chinstrap"
          },
          {
           "Beak Depth (mm)": 18.2,
           "Beak Length (mm)": 49.2,
           "Body Mass (g)": 4400,
           "Flipper Length (mm)": 195,
           "Island": "Dream",
           "Sex": "MALE",
           "Species": "Chinstrap"
          },
          {
           "Beak Depth (mm)": 17.3,
           "Beak Length (mm)": 42.4,
           "Body Mass (g)": 3600,
           "Flipper Length (mm)": 181,
           "Island": "Dream",
           "Sex": "FEMALE",
           "Species": "Chinstrap"
          },
          {
           "Beak Depth (mm)": 17.5,
           "Beak Length (mm)": 48.5,
           "Body Mass (g)": 3400,
           "Flipper Length (mm)": 191,
           "Island": "Dream",
           "Sex": "MALE",
           "Species": "Chinstrap"
          },
          {
           "Beak Depth (mm)": 16.6,
           "Beak Length (mm)": 43.2,
           "Body Mass (g)": 2900,
           "Flipper Length (mm)": 187,
           "Island": "Dream",
           "Sex": "FEMALE",
           "Species": "Chinstrap"
          },
          {
           "Beak Depth (mm)": 19.4,
           "Beak Length (mm)": 50.6,
           "Body Mass (g)": 3800,
           "Flipper Length (mm)": 193,
           "Island": "Dream",
           "Sex": "MALE",
           "Species": "Chinstrap"
          },
          {
           "Beak Depth (mm)": 17.9,
           "Beak Length (mm)": 46.7,
           "Body Mass (g)": 3300,
           "Flipper Length (mm)": 195,
           "Island": "Dream",
           "Sex": "FEMALE",
           "Species": "Chinstrap"
          },
          {
           "Beak Depth (mm)": 19,
           "Beak Length (mm)": 52,
           "Body Mass (g)": 4150,
           "Flipper Length (mm)": 197,
           "Island": "Dream",
           "Sex": "MALE",
           "Species": "Chinstrap"
          },
          {
           "Beak Depth (mm)": 18.4,
           "Beak Length (mm)": 50.5,
           "Body Mass (g)": 3400,
           "Flipper Length (mm)": 200,
           "Island": "Dream",
           "Sex": "FEMALE",
           "Species": "Chinstrap"
          },
          {
           "Beak Depth (mm)": 19,
           "Beak Length (mm)": 49.5,
           "Body Mass (g)": 3800,
           "Flipper Length (mm)": 200,
           "Island": "Dream",
           "Sex": "MALE",
           "Species": "Chinstrap"
          },
          {
           "Beak Depth (mm)": 17.8,
           "Beak Length (mm)": 46.4,
           "Body Mass (g)": 3700,
           "Flipper Length (mm)": 191,
           "Island": "Dream",
           "Sex": "FEMALE",
           "Species": "Chinstrap"
          },
          {
           "Beak Depth (mm)": 20,
           "Beak Length (mm)": 52.8,
           "Body Mass (g)": 4550,
           "Flipper Length (mm)": 205,
           "Island": "Dream",
           "Sex": "MALE",
           "Species": "Chinstrap"
          },
          {
           "Beak Depth (mm)": 16.6,
           "Beak Length (mm)": 40.9,
           "Body Mass (g)": 3200,
           "Flipper Length (mm)": 187,
           "Island": "Dream",
           "Sex": "FEMALE",
           "Species": "Chinstrap"
          },
          {
           "Beak Depth (mm)": 20.8,
           "Beak Length (mm)": 54.2,
           "Body Mass (g)": 4300,
           "Flipper Length (mm)": 201,
           "Island": "Dream",
           "Sex": "MALE",
           "Species": "Chinstrap"
          },
          {
           "Beak Depth (mm)": 16.7,
           "Beak Length (mm)": 42.5,
           "Body Mass (g)": 3350,
           "Flipper Length (mm)": 187,
           "Island": "Dream",
           "Sex": "FEMALE",
           "Species": "Chinstrap"
          },
          {
           "Beak Depth (mm)": 18.8,
           "Beak Length (mm)": 51,
           "Body Mass (g)": 4100,
           "Flipper Length (mm)": 203,
           "Island": "Dream",
           "Sex": "MALE",
           "Species": "Chinstrap"
          },
          {
           "Beak Depth (mm)": 18.6,
           "Beak Length (mm)": 49.7,
           "Body Mass (g)": 3600,
           "Flipper Length (mm)": 195,
           "Island": "Dream",
           "Sex": "MALE",
           "Species": "Chinstrap"
          },
          {
           "Beak Depth (mm)": 16.8,
           "Beak Length (mm)": 47.5,
           "Body Mass (g)": 3900,
           "Flipper Length (mm)": 199,
           "Island": "Dream",
           "Sex": "FEMALE",
           "Species": "Chinstrap"
          },
          {
           "Beak Depth (mm)": 18.3,
           "Beak Length (mm)": 47.6,
           "Body Mass (g)": 3850,
           "Flipper Length (mm)": 195,
           "Island": "Dream",
           "Sex": "FEMALE",
           "Species": "Chinstrap"
          },
          {
           "Beak Depth (mm)": 20.7,
           "Beak Length (mm)": 52,
           "Body Mass (g)": 4800,
           "Flipper Length (mm)": 210,
           "Island": "Dream",
           "Sex": "MALE",
           "Species": "Chinstrap"
          },
          {
           "Beak Depth (mm)": 16.6,
           "Beak Length (mm)": 46.9,
           "Body Mass (g)": 2700,
           "Flipper Length (mm)": 192,
           "Island": "Dream",
           "Sex": "FEMALE",
           "Species": "Chinstrap"
          },
          {
           "Beak Depth (mm)": 19.9,
           "Beak Length (mm)": 53.5,
           "Body Mass (g)": 4500,
           "Flipper Length (mm)": 205,
           "Island": "Dream",
           "Sex": "MALE",
           "Species": "Chinstrap"
          },
          {
           "Beak Depth (mm)": 19.5,
           "Beak Length (mm)": 49,
           "Body Mass (g)": 3950,
           "Flipper Length (mm)": 210,
           "Island": "Dream",
           "Sex": "MALE",
           "Species": "Chinstrap"
          },
          {
           "Beak Depth (mm)": 17.5,
           "Beak Length (mm)": 46.2,
           "Body Mass (g)": 3650,
           "Flipper Length (mm)": 187,
           "Island": "Dream",
           "Sex": "FEMALE",
           "Species": "Chinstrap"
          },
          {
           "Beak Depth (mm)": 19.1,
           "Beak Length (mm)": 50.9,
           "Body Mass (g)": 3550,
           "Flipper Length (mm)": 196,
           "Island": "Dream",
           "Sex": "MALE",
           "Species": "Chinstrap"
          },
          {
           "Beak Depth (mm)": 17,
           "Beak Length (mm)": 45.5,
           "Body Mass (g)": 3500,
           "Flipper Length (mm)": 196,
           "Island": "Dream",
           "Sex": "FEMALE",
           "Species": "Chinstrap"
          },
          {
           "Beak Depth (mm)": 17.9,
           "Beak Length (mm)": 50.9,
           "Body Mass (g)": 3675,
           "Flipper Length (mm)": 196,
           "Island": "Dream",
           "Sex": "FEMALE",
           "Species": "Chinstrap"
          },
          {
           "Beak Depth (mm)": 18.5,
           "Beak Length (mm)": 50.8,
           "Body Mass (g)": 4450,
           "Flipper Length (mm)": 201,
           "Island": "Dream",
           "Sex": "MALE",
           "Species": "Chinstrap"
          },
          {
           "Beak Depth (mm)": 17.9,
           "Beak Length (mm)": 50.1,
           "Body Mass (g)": 3400,
           "Flipper Length (mm)": 190,
           "Island": "Dream",
           "Sex": "FEMALE",
           "Species": "Chinstrap"
          },
          {
           "Beak Depth (mm)": 19.6,
           "Beak Length (mm)": 49,
           "Body Mass (g)": 4300,
           "Flipper Length (mm)": 212,
           "Island": "Dream",
           "Sex": "MALE",
           "Species": "Chinstrap"
          },
          {
           "Beak Depth (mm)": 18.7,
           "Beak Length (mm)": 51.5,
           "Body Mass (g)": 3250,
           "Flipper Length (mm)": 187,
           "Island": "Dream",
           "Sex": "MALE",
           "Species": "Chinstrap"
          },
          {
           "Beak Depth (mm)": 17.3,
           "Beak Length (mm)": 49.8,
           "Body Mass (g)": 3675,
           "Flipper Length (mm)": 198,
           "Island": "Dream",
           "Sex": "FEMALE",
           "Species": "Chinstrap"
          },
          {
           "Beak Depth (mm)": 16.4,
           "Beak Length (mm)": 48.1,
           "Body Mass (g)": 3325,
           "Flipper Length (mm)": 199,
           "Island": "Dream",
           "Sex": "FEMALE",
           "Species": "Chinstrap"
          },
          {
           "Beak Depth (mm)": 19,
           "Beak Length (mm)": 51.4,
           "Body Mass (g)": 3950,
           "Flipper Length (mm)": 201,
           "Island": "Dream",
           "Sex": "MALE",
           "Species": "Chinstrap"
          },
          {
           "Beak Depth (mm)": 17.3,
           "Beak Length (mm)": 45.7,
           "Body Mass (g)": 3600,
           "Flipper Length (mm)": 193,
           "Island": "Dream",
           "Sex": "FEMALE",
           "Species": "Chinstrap"
          },
          {
           "Beak Depth (mm)": 19.7,
           "Beak Length (mm)": 50.7,
           "Body Mass (g)": 4050,
           "Flipper Length (mm)": 203,
           "Island": "Dream",
           "Sex": "MALE",
           "Species": "Chinstrap"
          },
          {
           "Beak Depth (mm)": 17.3,
           "Beak Length (mm)": 42.5,
           "Body Mass (g)": 3350,
           "Flipper Length (mm)": 187,
           "Island": "Dream",
           "Sex": "FEMALE",
           "Species": "Chinstrap"
          },
          {
           "Beak Depth (mm)": 18.8,
           "Beak Length (mm)": 52.2,
           "Body Mass (g)": 3450,
           "Flipper Length (mm)": 197,
           "Island": "Dream",
           "Sex": "MALE",
           "Species": "Chinstrap"
          },
          {
           "Beak Depth (mm)": 16.6,
           "Beak Length (mm)": 45.2,
           "Body Mass (g)": 3250,
           "Flipper Length (mm)": 191,
           "Island": "Dream",
           "Sex": "FEMALE",
           "Species": "Chinstrap"
          },
          {
           "Beak Depth (mm)": 19.9,
           "Beak Length (mm)": 49.3,
           "Body Mass (g)": 4050,
           "Flipper Length (mm)": 203,
           "Island": "Dream",
           "Sex": "MALE",
           "Species": "Chinstrap"
          },
          {
           "Beak Depth (mm)": 18.8,
           "Beak Length (mm)": 50.2,
           "Body Mass (g)": 3800,
           "Flipper Length (mm)": 202,
           "Island": "Dream",
           "Sex": "MALE",
           "Species": "Chinstrap"
          },
          {
           "Beak Depth (mm)": 19.4,
           "Beak Length (mm)": 45.6,
           "Body Mass (g)": 3525,
           "Flipper Length (mm)": 194,
           "Island": "Dream",
           "Sex": "FEMALE",
           "Species": "Chinstrap"
          },
          {
           "Beak Depth (mm)": 19.5,
           "Beak Length (mm)": 51.9,
           "Body Mass (g)": 3950,
           "Flipper Length (mm)": 206,
           "Island": "Dream",
           "Sex": "MALE",
           "Species": "Chinstrap"
          },
          {
           "Beak Depth (mm)": 16.5,
           "Beak Length (mm)": 46.8,
           "Body Mass (g)": 3650,
           "Flipper Length (mm)": 189,
           "Island": "Dream",
           "Sex": "FEMALE",
           "Species": "Chinstrap"
          },
          {
           "Beak Depth (mm)": 17,
           "Beak Length (mm)": 45.7,
           "Body Mass (g)": 3650,
           "Flipper Length (mm)": 195,
           "Island": "Dream",
           "Sex": "FEMALE",
           "Species": "Chinstrap"
          },
          {
           "Beak Depth (mm)": 19.8,
           "Beak Length (mm)": 55.8,
           "Body Mass (g)": 4000,
           "Flipper Length (mm)": 207,
           "Island": "Dream",
           "Sex": "MALE",
           "Species": "Chinstrap"
          },
          {
           "Beak Depth (mm)": 18.1,
           "Beak Length (mm)": 43.5,
           "Body Mass (g)": 3400,
           "Flipper Length (mm)": 202,
           "Island": "Dream",
           "Sex": "FEMALE",
           "Species": "Chinstrap"
          },
          {
           "Beak Depth (mm)": 18.2,
           "Beak Length (mm)": 49.6,
           "Body Mass (g)": 3775,
           "Flipper Length (mm)": 193,
           "Island": "Dream",
           "Sex": "MALE",
           "Species": "Chinstrap"
          },
          {
           "Beak Depth (mm)": 19,
           "Beak Length (mm)": 50.8,
           "Body Mass (g)": 4100,
           "Flipper Length (mm)": 210,
           "Island": "Dream",
           "Sex": "MALE",
           "Species": "Chinstrap"
          },
          {
           "Beak Depth (mm)": 18.7,
           "Beak Length (mm)": 50.2,
           "Body Mass (g)": 3775,
           "Flipper Length (mm)": 198,
           "Island": "Dream",
           "Sex": "FEMALE",
           "Species": "Chinstrap"
          },
          {
           "Beak Depth (mm)": 13.2,
           "Beak Length (mm)": 46.1,
           "Body Mass (g)": 4500,
           "Flipper Length (mm)": 211,
           "Island": "Biscoe",
           "Sex": "FEMALE",
           "Species": "Gentoo"
          },
          {
           "Beak Depth (mm)": 16.3,
           "Beak Length (mm)": 50,
           "Body Mass (g)": 5700,
           "Flipper Length (mm)": 230,
           "Island": "Biscoe",
           "Sex": "MALE",
           "Species": "Gentoo"
          },
          {
           "Beak Depth (mm)": 14.1,
           "Beak Length (mm)": 48.7,
           "Body Mass (g)": 4450,
           "Flipper Length (mm)": 210,
           "Island": "Biscoe",
           "Sex": "FEMALE",
           "Species": "Gentoo"
          },
          {
           "Beak Depth (mm)": 15.2,
           "Beak Length (mm)": 50,
           "Body Mass (g)": 5700,
           "Flipper Length (mm)": 218,
           "Island": "Biscoe",
           "Sex": "MALE",
           "Species": "Gentoo"
          },
          {
           "Beak Depth (mm)": 14.5,
           "Beak Length (mm)": 47.6,
           "Body Mass (g)": 5400,
           "Flipper Length (mm)": 215,
           "Island": "Biscoe",
           "Sex": "MALE",
           "Species": "Gentoo"
          },
          {
           "Beak Depth (mm)": 13.5,
           "Beak Length (mm)": 46.5,
           "Body Mass (g)": 4550,
           "Flipper Length (mm)": 210,
           "Island": "Biscoe",
           "Sex": "FEMALE",
           "Species": "Gentoo"
          },
          {
           "Beak Depth (mm)": 14.6,
           "Beak Length (mm)": 45.4,
           "Body Mass (g)": 4800,
           "Flipper Length (mm)": 211,
           "Island": "Biscoe",
           "Sex": "FEMALE",
           "Species": "Gentoo"
          },
          {
           "Beak Depth (mm)": 15.3,
           "Beak Length (mm)": 46.7,
           "Body Mass (g)": 5200,
           "Flipper Length (mm)": 219,
           "Island": "Biscoe",
           "Sex": "MALE",
           "Species": "Gentoo"
          },
          {
           "Beak Depth (mm)": 13.4,
           "Beak Length (mm)": 43.3,
           "Body Mass (g)": 4400,
           "Flipper Length (mm)": 209,
           "Island": "Biscoe",
           "Sex": "FEMALE",
           "Species": "Gentoo"
          },
          {
           "Beak Depth (mm)": 15.4,
           "Beak Length (mm)": 46.8,
           "Body Mass (g)": 5150,
           "Flipper Length (mm)": 215,
           "Island": "Biscoe",
           "Sex": "MALE",
           "Species": "Gentoo"
          },
          {
           "Beak Depth (mm)": 13.7,
           "Beak Length (mm)": 40.9,
           "Body Mass (g)": 4650,
           "Flipper Length (mm)": 214,
           "Island": "Biscoe",
           "Sex": "FEMALE",
           "Species": "Gentoo"
          },
          {
           "Beak Depth (mm)": 16.1,
           "Beak Length (mm)": 49,
           "Body Mass (g)": 5550,
           "Flipper Length (mm)": 216,
           "Island": "Biscoe",
           "Sex": "MALE",
           "Species": "Gentoo"
          },
          {
           "Beak Depth (mm)": 13.7,
           "Beak Length (mm)": 45.5,
           "Body Mass (g)": 4650,
           "Flipper Length (mm)": 214,
           "Island": "Biscoe",
           "Sex": "FEMALE",
           "Species": "Gentoo"
          },
          {
           "Beak Depth (mm)": 14.6,
           "Beak Length (mm)": 48.4,
           "Body Mass (g)": 5850,
           "Flipper Length (mm)": 213,
           "Island": "Biscoe",
           "Sex": "MALE",
           "Species": "Gentoo"
          },
          {
           "Beak Depth (mm)": 14.6,
           "Beak Length (mm)": 45.8,
           "Body Mass (g)": 4200,
           "Flipper Length (mm)": 210,
           "Island": "Biscoe",
           "Sex": "FEMALE",
           "Species": "Gentoo"
          },
          {
           "Beak Depth (mm)": 15.7,
           "Beak Length (mm)": 49.3,
           "Body Mass (g)": 5850,
           "Flipper Length (mm)": 217,
           "Island": "Biscoe",
           "Sex": "MALE",
           "Species": "Gentoo"
          },
          {
           "Beak Depth (mm)": 13.5,
           "Beak Length (mm)": 42,
           "Body Mass (g)": 4150,
           "Flipper Length (mm)": 210,
           "Island": "Biscoe",
           "Sex": "FEMALE",
           "Species": "Gentoo"
          },
          {
           "Beak Depth (mm)": 15.2,
           "Beak Length (mm)": 49.2,
           "Body Mass (g)": 6300,
           "Flipper Length (mm)": 221,
           "Island": "Biscoe",
           "Sex": "MALE",
           "Species": "Gentoo"
          },
          {
           "Beak Depth (mm)": 14.5,
           "Beak Length (mm)": 46.2,
           "Body Mass (g)": 4800,
           "Flipper Length (mm)": 209,
           "Island": "Biscoe",
           "Sex": "FEMALE",
           "Species": "Gentoo"
          },
          {
           "Beak Depth (mm)": 15.1,
           "Beak Length (mm)": 48.7,
           "Body Mass (g)": 5350,
           "Flipper Length (mm)": 222,
           "Island": "Biscoe",
           "Sex": "MALE",
           "Species": "Gentoo"
          },
          {
           "Beak Depth (mm)": 14.3,
           "Beak Length (mm)": 50.2,
           "Body Mass (g)": 5700,
           "Flipper Length (mm)": 218,
           "Island": "Biscoe",
           "Sex": "MALE",
           "Species": "Gentoo"
          },
          {
           "Beak Depth (mm)": 14.5,
           "Beak Length (mm)": 45.1,
           "Body Mass (g)": 5000,
           "Flipper Length (mm)": 215,
           "Island": "Biscoe",
           "Sex": "FEMALE",
           "Species": "Gentoo"
          },
          {
           "Beak Depth (mm)": 14.5,
           "Beak Length (mm)": 46.5,
           "Body Mass (g)": 4400,
           "Flipper Length (mm)": 213,
           "Island": "Biscoe",
           "Sex": "FEMALE",
           "Species": "Gentoo"
          },
          {
           "Beak Depth (mm)": 15.8,
           "Beak Length (mm)": 46.3,
           "Body Mass (g)": 5050,
           "Flipper Length (mm)": 215,
           "Island": "Biscoe",
           "Sex": "MALE",
           "Species": "Gentoo"
          },
          {
           "Beak Depth (mm)": 13.1,
           "Beak Length (mm)": 42.9,
           "Body Mass (g)": 5000,
           "Flipper Length (mm)": 215,
           "Island": "Biscoe",
           "Sex": "FEMALE",
           "Species": "Gentoo"
          },
          {
           "Beak Depth (mm)": 15.1,
           "Beak Length (mm)": 46.1,
           "Body Mass (g)": 5100,
           "Flipper Length (mm)": 215,
           "Island": "Biscoe",
           "Sex": "MALE",
           "Species": "Gentoo"
          },
          {
           "Beak Depth (mm)": 14.3,
           "Beak Length (mm)": 44.5,
           "Body Mass (g)": 4100,
           "Flipper Length (mm)": 216,
           "Island": "Biscoe",
           "Sex": null,
           "Species": "Gentoo"
          },
          {
           "Beak Depth (mm)": 15,
           "Beak Length (mm)": 47.8,
           "Body Mass (g)": 5650,
           "Flipper Length (mm)": 215,
           "Island": "Biscoe",
           "Sex": "MALE",
           "Species": "Gentoo"
          },
          {
           "Beak Depth (mm)": 14.3,
           "Beak Length (mm)": 48.2,
           "Body Mass (g)": 4600,
           "Flipper Length (mm)": 210,
           "Island": "Biscoe",
           "Sex": "FEMALE",
           "Species": "Gentoo"
          },
          {
           "Beak Depth (mm)": 15.3,
           "Beak Length (mm)": 50,
           "Body Mass (g)": 5550,
           "Flipper Length (mm)": 220,
           "Island": "Biscoe",
           "Sex": "MALE",
           "Species": "Gentoo"
          },
          {
           "Beak Depth (mm)": 15.3,
           "Beak Length (mm)": 47.3,
           "Body Mass (g)": 5250,
           "Flipper Length (mm)": 222,
           "Island": "Biscoe",
           "Sex": "MALE",
           "Species": "Gentoo"
          },
          {
           "Beak Depth (mm)": 14.2,
           "Beak Length (mm)": 42.8,
           "Body Mass (g)": 4700,
           "Flipper Length (mm)": 209,
           "Island": "Biscoe",
           "Sex": "FEMALE",
           "Species": "Gentoo"
          },
          {
           "Beak Depth (mm)": 14.5,
           "Beak Length (mm)": 45.1,
           "Body Mass (g)": 5050,
           "Flipper Length (mm)": 207,
           "Island": "Biscoe",
           "Sex": "FEMALE",
           "Species": "Gentoo"
          },
          {
           "Beak Depth (mm)": 17,
           "Beak Length (mm)": 59.6,
           "Body Mass (g)": 6050,
           "Flipper Length (mm)": 230,
           "Island": "Biscoe",
           "Sex": "MALE",
           "Species": "Gentoo"
          },
          {
           "Beak Depth (mm)": 14.8,
           "Beak Length (mm)": 49.1,
           "Body Mass (g)": 5150,
           "Flipper Length (mm)": 220,
           "Island": "Biscoe",
           "Sex": "FEMALE",
           "Species": "Gentoo"
          },
          {
           "Beak Depth (mm)": 16.3,
           "Beak Length (mm)": 48.4,
           "Body Mass (g)": 5400,
           "Flipper Length (mm)": 220,
           "Island": "Biscoe",
           "Sex": "MALE",
           "Species": "Gentoo"
          },
          {
           "Beak Depth (mm)": 13.7,
           "Beak Length (mm)": 42.6,
           "Body Mass (g)": 4950,
           "Flipper Length (mm)": 213,
           "Island": "Biscoe",
           "Sex": "FEMALE",
           "Species": "Gentoo"
          },
          {
           "Beak Depth (mm)": 17.3,
           "Beak Length (mm)": 44.4,
           "Body Mass (g)": 5250,
           "Flipper Length (mm)": 219,
           "Island": "Biscoe",
           "Sex": "MALE",
           "Species": "Gentoo"
          },
          {
           "Beak Depth (mm)": 13.6,
           "Beak Length (mm)": 44,
           "Body Mass (g)": 4350,
           "Flipper Length (mm)": 208,
           "Island": "Biscoe",
           "Sex": "FEMALE",
           "Species": "Gentoo"
          },
          {
           "Beak Depth (mm)": 15.7,
           "Beak Length (mm)": 48.7,
           "Body Mass (g)": 5350,
           "Flipper Length (mm)": 208,
           "Island": "Biscoe",
           "Sex": "MALE",
           "Species": "Gentoo"
          },
          {
           "Beak Depth (mm)": 13.7,
           "Beak Length (mm)": 42.7,
           "Body Mass (g)": 3950,
           "Flipper Length (mm)": 208,
           "Island": "Biscoe",
           "Sex": "FEMALE",
           "Species": "Gentoo"
          },
          {
           "Beak Depth (mm)": 16,
           "Beak Length (mm)": 49.6,
           "Body Mass (g)": 5700,
           "Flipper Length (mm)": 225,
           "Island": "Biscoe",
           "Sex": "MALE",
           "Species": "Gentoo"
          },
          {
           "Beak Depth (mm)": 13.7,
           "Beak Length (mm)": 45.3,
           "Body Mass (g)": 4300,
           "Flipper Length (mm)": 210,
           "Island": "Biscoe",
           "Sex": "FEMALE",
           "Species": "Gentoo"
          },
          {
           "Beak Depth (mm)": 15,
           "Beak Length (mm)": 49.6,
           "Body Mass (g)": 4750,
           "Flipper Length (mm)": 216,
           "Island": "Biscoe",
           "Sex": "MALE",
           "Species": "Gentoo"
          },
          {
           "Beak Depth (mm)": 15.9,
           "Beak Length (mm)": 50.5,
           "Body Mass (g)": 5550,
           "Flipper Length (mm)": 222,
           "Island": "Biscoe",
           "Sex": "MALE",
           "Species": "Gentoo"
          },
          {
           "Beak Depth (mm)": 13.9,
           "Beak Length (mm)": 43.6,
           "Body Mass (g)": 4900,
           "Flipper Length (mm)": 217,
           "Island": "Biscoe",
           "Sex": "FEMALE",
           "Species": "Gentoo"
          },
          {
           "Beak Depth (mm)": 13.9,
           "Beak Length (mm)": 45.5,
           "Body Mass (g)": 4200,
           "Flipper Length (mm)": 210,
           "Island": "Biscoe",
           "Sex": "FEMALE",
           "Species": "Gentoo"
          },
          {
           "Beak Depth (mm)": 15.9,
           "Beak Length (mm)": 50.5,
           "Body Mass (g)": 5400,
           "Flipper Length (mm)": 225,
           "Island": "Biscoe",
           "Sex": "MALE",
           "Species": "Gentoo"
          },
          {
           "Beak Depth (mm)": 13.3,
           "Beak Length (mm)": 44.9,
           "Body Mass (g)": 5100,
           "Flipper Length (mm)": 213,
           "Island": "Biscoe",
           "Sex": "FEMALE",
           "Species": "Gentoo"
          },
          {
           "Beak Depth (mm)": 15.8,
           "Beak Length (mm)": 45.2,
           "Body Mass (g)": 5300,
           "Flipper Length (mm)": 215,
           "Island": "Biscoe",
           "Sex": "MALE",
           "Species": "Gentoo"
          },
          {
           "Beak Depth (mm)": 14.2,
           "Beak Length (mm)": 46.6,
           "Body Mass (g)": 4850,
           "Flipper Length (mm)": 210,
           "Island": "Biscoe",
           "Sex": "FEMALE",
           "Species": "Gentoo"
          },
          {
           "Beak Depth (mm)": 14.1,
           "Beak Length (mm)": 48.5,
           "Body Mass (g)": 5300,
           "Flipper Length (mm)": 220,
           "Island": "Biscoe",
           "Sex": "MALE",
           "Species": "Gentoo"
          },
          {
           "Beak Depth (mm)": 14.4,
           "Beak Length (mm)": 45.1,
           "Body Mass (g)": 4400,
           "Flipper Length (mm)": 210,
           "Island": "Biscoe",
           "Sex": "FEMALE",
           "Species": "Gentoo"
          },
          {
           "Beak Depth (mm)": 15,
           "Beak Length (mm)": 50.1,
           "Body Mass (g)": 5000,
           "Flipper Length (mm)": 225,
           "Island": "Biscoe",
           "Sex": "MALE",
           "Species": "Gentoo"
          },
          {
           "Beak Depth (mm)": 14.4,
           "Beak Length (mm)": 46.5,
           "Body Mass (g)": 4900,
           "Flipper Length (mm)": 217,
           "Island": "Biscoe",
           "Sex": "FEMALE",
           "Species": "Gentoo"
          },
          {
           "Beak Depth (mm)": 15.4,
           "Beak Length (mm)": 45,
           "Body Mass (g)": 5050,
           "Flipper Length (mm)": 220,
           "Island": "Biscoe",
           "Sex": "MALE",
           "Species": "Gentoo"
          },
          {
           "Beak Depth (mm)": 13.9,
           "Beak Length (mm)": 43.8,
           "Body Mass (g)": 4300,
           "Flipper Length (mm)": 208,
           "Island": "Biscoe",
           "Sex": "FEMALE",
           "Species": "Gentoo"
          },
          {
           "Beak Depth (mm)": 15,
           "Beak Length (mm)": 45.5,
           "Body Mass (g)": 5000,
           "Flipper Length (mm)": 220,
           "Island": "Biscoe",
           "Sex": "MALE",
           "Species": "Gentoo"
          },
          {
           "Beak Depth (mm)": 14.5,
           "Beak Length (mm)": 43.2,
           "Body Mass (g)": 4450,
           "Flipper Length (mm)": 208,
           "Island": "Biscoe",
           "Sex": "FEMALE",
           "Species": "Gentoo"
          },
          {
           "Beak Depth (mm)": 15.3,
           "Beak Length (mm)": 50.4,
           "Body Mass (g)": 5550,
           "Flipper Length (mm)": 224,
           "Island": "Biscoe",
           "Sex": "MALE",
           "Species": "Gentoo"
          },
          {
           "Beak Depth (mm)": 13.8,
           "Beak Length (mm)": 45.3,
           "Body Mass (g)": 4200,
           "Flipper Length (mm)": 208,
           "Island": "Biscoe",
           "Sex": "FEMALE",
           "Species": "Gentoo"
          },
          {
           "Beak Depth (mm)": 14.9,
           "Beak Length (mm)": 46.2,
           "Body Mass (g)": 5300,
           "Flipper Length (mm)": 221,
           "Island": "Biscoe",
           "Sex": "MALE",
           "Species": "Gentoo"
          },
          {
           "Beak Depth (mm)": 13.9,
           "Beak Length (mm)": 45.7,
           "Body Mass (g)": 4400,
           "Flipper Length (mm)": 214,
           "Island": "Biscoe",
           "Sex": "FEMALE",
           "Species": "Gentoo"
          },
          {
           "Beak Depth (mm)": 15.7,
           "Beak Length (mm)": 54.3,
           "Body Mass (g)": 5650,
           "Flipper Length (mm)": 231,
           "Island": "Biscoe",
           "Sex": "MALE",
           "Species": "Gentoo"
          },
          {
           "Beak Depth (mm)": 14.2,
           "Beak Length (mm)": 45.8,
           "Body Mass (g)": 4700,
           "Flipper Length (mm)": 219,
           "Island": "Biscoe",
           "Sex": "FEMALE",
           "Species": "Gentoo"
          },
          {
           "Beak Depth (mm)": 16.8,
           "Beak Length (mm)": 49.8,
           "Body Mass (g)": 5700,
           "Flipper Length (mm)": 230,
           "Island": "Biscoe",
           "Sex": "MALE",
           "Species": "Gentoo"
          },
          {
           "Beak Depth (mm)": 14.4,
           "Beak Length (mm)": 46.2,
           "Body Mass (g)": 4650,
           "Flipper Length (mm)": 214,
           "Island": "Biscoe",
           "Sex": null,
           "Species": "Gentoo"
          },
          {
           "Beak Depth (mm)": 16.2,
           "Beak Length (mm)": 49.5,
           "Body Mass (g)": 5800,
           "Flipper Length (mm)": 229,
           "Island": "Biscoe",
           "Sex": "MALE",
           "Species": "Gentoo"
          },
          {
           "Beak Depth (mm)": 14.2,
           "Beak Length (mm)": 43.5,
           "Body Mass (g)": 4700,
           "Flipper Length (mm)": 220,
           "Island": "Biscoe",
           "Sex": "FEMALE",
           "Species": "Gentoo"
          },
          {
           "Beak Depth (mm)": 15,
           "Beak Length (mm)": 50.7,
           "Body Mass (g)": 5550,
           "Flipper Length (mm)": 223,
           "Island": "Biscoe",
           "Sex": "MALE",
           "Species": "Gentoo"
          },
          {
           "Beak Depth (mm)": 15,
           "Beak Length (mm)": 47.7,
           "Body Mass (g)": 4750,
           "Flipper Length (mm)": 216,
           "Island": "Biscoe",
           "Sex": "FEMALE",
           "Species": "Gentoo"
          },
          {
           "Beak Depth (mm)": 15.6,
           "Beak Length (mm)": 46.4,
           "Body Mass (g)": 5000,
           "Flipper Length (mm)": 221,
           "Island": "Biscoe",
           "Sex": "MALE",
           "Species": "Gentoo"
          },
          {
           "Beak Depth (mm)": 15.6,
           "Beak Length (mm)": 48.2,
           "Body Mass (g)": 5100,
           "Flipper Length (mm)": 221,
           "Island": "Biscoe",
           "Sex": "MALE",
           "Species": "Gentoo"
          },
          {
           "Beak Depth (mm)": 14.8,
           "Beak Length (mm)": 46.5,
           "Body Mass (g)": 5200,
           "Flipper Length (mm)": 217,
           "Island": "Biscoe",
           "Sex": "FEMALE",
           "Species": "Gentoo"
          },
          {
           "Beak Depth (mm)": 15,
           "Beak Length (mm)": 46.4,
           "Body Mass (g)": 4700,
           "Flipper Length (mm)": 216,
           "Island": "Biscoe",
           "Sex": "FEMALE",
           "Species": "Gentoo"
          },
          {
           "Beak Depth (mm)": 16,
           "Beak Length (mm)": 48.6,
           "Body Mass (g)": 5800,
           "Flipper Length (mm)": 230,
           "Island": "Biscoe",
           "Sex": "MALE",
           "Species": "Gentoo"
          },
          {
           "Beak Depth (mm)": 14.2,
           "Beak Length (mm)": 47.5,
           "Body Mass (g)": 4600,
           "Flipper Length (mm)": 209,
           "Island": "Biscoe",
           "Sex": "FEMALE",
           "Species": "Gentoo"
          },
          {
           "Beak Depth (mm)": 16.3,
           "Beak Length (mm)": 51.1,
           "Body Mass (g)": 6000,
           "Flipper Length (mm)": 220,
           "Island": "Biscoe",
           "Sex": "MALE",
           "Species": "Gentoo"
          },
          {
           "Beak Depth (mm)": 13.8,
           "Beak Length (mm)": 45.2,
           "Body Mass (g)": 4750,
           "Flipper Length (mm)": 215,
           "Island": "Biscoe",
           "Sex": "FEMALE",
           "Species": "Gentoo"
          },
          {
           "Beak Depth (mm)": 16.4,
           "Beak Length (mm)": 45.2,
           "Body Mass (g)": 5950,
           "Flipper Length (mm)": 223,
           "Island": "Biscoe",
           "Sex": "MALE",
           "Species": "Gentoo"
          },
          {
           "Beak Depth (mm)": 14.5,
           "Beak Length (mm)": 49.1,
           "Body Mass (g)": 4625,
           "Flipper Length (mm)": 212,
           "Island": "Biscoe",
           "Sex": "FEMALE",
           "Species": "Gentoo"
          },
          {
           "Beak Depth (mm)": 15.6,
           "Beak Length (mm)": 52.5,
           "Body Mass (g)": 5450,
           "Flipper Length (mm)": 221,
           "Island": "Biscoe",
           "Sex": "MALE",
           "Species": "Gentoo"
          },
          {
           "Beak Depth (mm)": 14.6,
           "Beak Length (mm)": 47.4,
           "Body Mass (g)": 4725,
           "Flipper Length (mm)": 212,
           "Island": "Biscoe",
           "Sex": "FEMALE",
           "Species": "Gentoo"
          },
          {
           "Beak Depth (mm)": 15.9,
           "Beak Length (mm)": 50,
           "Body Mass (g)": 5350,
           "Flipper Length (mm)": 224,
           "Island": "Biscoe",
           "Sex": "MALE",
           "Species": "Gentoo"
          },
          {
           "Beak Depth (mm)": 13.8,
           "Beak Length (mm)": 44.9,
           "Body Mass (g)": 4750,
           "Flipper Length (mm)": 212,
           "Island": "Biscoe",
           "Sex": "FEMALE",
           "Species": "Gentoo"
          },
          {
           "Beak Depth (mm)": 17.3,
           "Beak Length (mm)": 50.8,
           "Body Mass (g)": 5600,
           "Flipper Length (mm)": 228,
           "Island": "Biscoe",
           "Sex": "MALE",
           "Species": "Gentoo"
          },
          {
           "Beak Depth (mm)": 14.4,
           "Beak Length (mm)": 43.4,
           "Body Mass (g)": 4600,
           "Flipper Length (mm)": 218,
           "Island": "Biscoe",
           "Sex": "FEMALE",
           "Species": "Gentoo"
          },
          {
           "Beak Depth (mm)": 14.2,
           "Beak Length (mm)": 51.3,
           "Body Mass (g)": 5300,
           "Flipper Length (mm)": 218,
           "Island": "Biscoe",
           "Sex": "MALE",
           "Species": "Gentoo"
          },
          {
           "Beak Depth (mm)": 14,
           "Beak Length (mm)": 47.5,
           "Body Mass (g)": 4875,
           "Flipper Length (mm)": 212,
           "Island": "Biscoe",
           "Sex": "FEMALE",
           "Species": "Gentoo"
          },
          {
           "Beak Depth (mm)": 17,
           "Beak Length (mm)": 52.1,
           "Body Mass (g)": 5550,
           "Flipper Length (mm)": 230,
           "Island": "Biscoe",
           "Sex": "MALE",
           "Species": "Gentoo"
          },
          {
           "Beak Depth (mm)": 15,
           "Beak Length (mm)": 47.5,
           "Body Mass (g)": 4950,
           "Flipper Length (mm)": 218,
           "Island": "Biscoe",
           "Sex": "FEMALE",
           "Species": "Gentoo"
          },
          {
           "Beak Depth (mm)": 17.1,
           "Beak Length (mm)": 52.2,
           "Body Mass (g)": 5400,
           "Flipper Length (mm)": 228,
           "Island": "Biscoe",
           "Sex": "MALE",
           "Species": "Gentoo"
          },
          {
           "Beak Depth (mm)": 14.5,
           "Beak Length (mm)": 45.5,
           "Body Mass (g)": 4750,
           "Flipper Length (mm)": 212,
           "Island": "Biscoe",
           "Sex": "FEMALE",
           "Species": "Gentoo"
          },
          {
           "Beak Depth (mm)": 16.1,
           "Beak Length (mm)": 49.5,
           "Body Mass (g)": 5650,
           "Flipper Length (mm)": 224,
           "Island": "Biscoe",
           "Sex": "MALE",
           "Species": "Gentoo"
          },
          {
           "Beak Depth (mm)": 14.7,
           "Beak Length (mm)": 44.5,
           "Body Mass (g)": 4850,
           "Flipper Length (mm)": 214,
           "Island": "Biscoe",
           "Sex": "FEMALE",
           "Species": "Gentoo"
          },
          {
           "Beak Depth (mm)": 15.7,
           "Beak Length (mm)": 50.8,
           "Body Mass (g)": 5200,
           "Flipper Length (mm)": 226,
           "Island": "Biscoe",
           "Sex": "MALE",
           "Species": "Gentoo"
          },
          {
           "Beak Depth (mm)": 15.8,
           "Beak Length (mm)": 49.4,
           "Body Mass (g)": 4925,
           "Flipper Length (mm)": 216,
           "Island": "Biscoe",
           "Sex": "MALE",
           "Species": "Gentoo"
          },
          {
           "Beak Depth (mm)": 14.6,
           "Beak Length (mm)": 46.9,
           "Body Mass (g)": 4875,
           "Flipper Length (mm)": 222,
           "Island": "Biscoe",
           "Sex": "FEMALE",
           "Species": "Gentoo"
          },
          {
           "Beak Depth (mm)": 14.4,
           "Beak Length (mm)": 48.4,
           "Body Mass (g)": 4625,
           "Flipper Length (mm)": 203,
           "Island": "Biscoe",
           "Sex": "FEMALE",
           "Species": "Gentoo"
          },
          {
           "Beak Depth (mm)": 16.5,
           "Beak Length (mm)": 51.1,
           "Body Mass (g)": 5250,
           "Flipper Length (mm)": 225,
           "Island": "Biscoe",
           "Sex": "MALE",
           "Species": "Gentoo"
          },
          {
           "Beak Depth (mm)": 15,
           "Beak Length (mm)": 48.5,
           "Body Mass (g)": 4850,
           "Flipper Length (mm)": 219,
           "Island": "Biscoe",
           "Sex": "FEMALE",
           "Species": "Gentoo"
          },
          {
           "Beak Depth (mm)": 17,
           "Beak Length (mm)": 55.9,
           "Body Mass (g)": 5600,
           "Flipper Length (mm)": 228,
           "Island": "Biscoe",
           "Sex": "MALE",
           "Species": "Gentoo"
          },
          {
           "Beak Depth (mm)": 15.5,
           "Beak Length (mm)": 47.2,
           "Body Mass (g)": 4975,
           "Flipper Length (mm)": 215,
           "Island": "Biscoe",
           "Sex": "FEMALE",
           "Species": "Gentoo"
          },
          {
           "Beak Depth (mm)": 15,
           "Beak Length (mm)": 49.1,
           "Body Mass (g)": 5500,
           "Flipper Length (mm)": 228,
           "Island": "Biscoe",
           "Sex": "MALE",
           "Species": "Gentoo"
          },
          {
           "Beak Depth (mm)": 13.8,
           "Beak Length (mm)": 47.3,
           "Body Mass (g)": 4725,
           "Flipper Length (mm)": 216,
           "Island": "Biscoe",
           "Sex": null,
           "Species": "Gentoo"
          },
          {
           "Beak Depth (mm)": 16.1,
           "Beak Length (mm)": 46.8,
           "Body Mass (g)": 5500,
           "Flipper Length (mm)": 215,
           "Island": "Biscoe",
           "Sex": "MALE",
           "Species": "Gentoo"
          },
          {
           "Beak Depth (mm)": 14.7,
           "Beak Length (mm)": 41.7,
           "Body Mass (g)": 4700,
           "Flipper Length (mm)": 210,
           "Island": "Biscoe",
           "Sex": "FEMALE",
           "Species": "Gentoo"
          },
          {
           "Beak Depth (mm)": 15.8,
           "Beak Length (mm)": 53.4,
           "Body Mass (g)": 5500,
           "Flipper Length (mm)": 219,
           "Island": "Biscoe",
           "Sex": "MALE",
           "Species": "Gentoo"
          },
          {
           "Beak Depth (mm)": 14,
           "Beak Length (mm)": 43.3,
           "Body Mass (g)": 4575,
           "Flipper Length (mm)": 208,
           "Island": "Biscoe",
           "Sex": "FEMALE",
           "Species": "Gentoo"
          },
          {
           "Beak Depth (mm)": 15.1,
           "Beak Length (mm)": 48.1,
           "Body Mass (g)": 5500,
           "Flipper Length (mm)": 209,
           "Island": "Biscoe",
           "Sex": "MALE",
           "Species": "Gentoo"
          },
          {
           "Beak Depth (mm)": 15.2,
           "Beak Length (mm)": 50.5,
           "Body Mass (g)": 5000,
           "Flipper Length (mm)": 216,
           "Island": "Biscoe",
           "Sex": "FEMALE",
           "Species": "Gentoo"
          },
          {
           "Beak Depth (mm)": 15.9,
           "Beak Length (mm)": 49.8,
           "Body Mass (g)": 5950,
           "Flipper Length (mm)": 229,
           "Island": "Biscoe",
           "Sex": "MALE",
           "Species": "Gentoo"
          },
          {
           "Beak Depth (mm)": 15.2,
           "Beak Length (mm)": 43.5,
           "Body Mass (g)": 4650,
           "Flipper Length (mm)": 213,
           "Island": "Biscoe",
           "Sex": "FEMALE",
           "Species": "Gentoo"
          },
          {
           "Beak Depth (mm)": 16.3,
           "Beak Length (mm)": 51.5,
           "Body Mass (g)": 5500,
           "Flipper Length (mm)": 230,
           "Island": "Biscoe",
           "Sex": "MALE",
           "Species": "Gentoo"
          },
          {
           "Beak Depth (mm)": 14.1,
           "Beak Length (mm)": 46.2,
           "Body Mass (g)": 4375,
           "Flipper Length (mm)": 217,
           "Island": "Biscoe",
           "Sex": "FEMALE",
           "Species": "Gentoo"
          },
          {
           "Beak Depth (mm)": 16,
           "Beak Length (mm)": 55.1,
           "Body Mass (g)": 5850,
           "Flipper Length (mm)": 230,
           "Island": "Biscoe",
           "Sex": "MALE",
           "Species": "Gentoo"
          },
          {
           "Beak Depth (mm)": 15.7,
           "Beak Length (mm)": 44.5,
           "Body Mass (g)": 4875,
           "Flipper Length (mm)": 217,
           "Island": "Biscoe",
           "Sex": ".",
           "Species": "Gentoo"
          },
          {
           "Beak Depth (mm)": 16.2,
           "Beak Length (mm)": 48.8,
           "Body Mass (g)": 6000,
           "Flipper Length (mm)": 222,
           "Island": "Biscoe",
           "Sex": "MALE",
           "Species": "Gentoo"
          },
          {
           "Beak Depth (mm)": 13.7,
           "Beak Length (mm)": 47.2,
           "Body Mass (g)": 4925,
           "Flipper Length (mm)": 214,
           "Island": "Biscoe",
           "Sex": "FEMALE",
           "Species": "Gentoo"
          },
          {
           "Beak Depth (mm)": null,
           "Beak Length (mm)": null,
           "Body Mass (g)": null,
           "Flipper Length (mm)": null,
           "Island": "Biscoe",
           "Sex": null,
           "Species": "Gentoo"
          },
          {
           "Beak Depth (mm)": 14.3,
           "Beak Length (mm)": 46.8,
           "Body Mass (g)": 4850,
           "Flipper Length (mm)": 215,
           "Island": "Biscoe",
           "Sex": "FEMALE",
           "Species": "Gentoo"
          },
          {
           "Beak Depth (mm)": 15.7,
           "Beak Length (mm)": 50.4,
           "Body Mass (g)": 5750,
           "Flipper Length (mm)": 222,
           "Island": "Biscoe",
           "Sex": "MALE",
           "Species": "Gentoo"
          },
          {
           "Beak Depth (mm)": 14.8,
           "Beak Length (mm)": 45.2,
           "Body Mass (g)": 5200,
           "Flipper Length (mm)": 212,
           "Island": "Biscoe",
           "Sex": "FEMALE",
           "Species": "Gentoo"
          },
          {
           "Beak Depth (mm)": 16.1,
           "Beak Length (mm)": 49.9,
           "Body Mass (g)": 5400,
           "Flipper Length (mm)": 213,
           "Island": "Biscoe",
           "Sex": "MALE",
           "Species": "Gentoo"
          }
         ]
        },
        "encoding": {
         "color": {
          "condition": {
           "field": "Species",
           "selection": "brush",
           "type": "nominal"
          },
          "value": "lightgray"
         },
         "x": {
          "field": "Beak Length (mm)",
          "scale": {
           "zero": false
          },
          "type": "quantitative"
         },
         "y": {
          "field": "Beak Depth (mm)",
          "scale": {
           "zero": false
          },
          "type": "quantitative"
         }
        },
        "height": 250,
        "mark": "point",
        "selection": {
         "brush": {
          "type": "interval"
         }
        },
        "width": 250
       },
       "text/plain": "<VegaLite 4 object>\n\nIf you see this message, it means the renderer has not been properly enabled\nfor the frontend that you are using. For more information, see\nhttps://altair-viz.github.io/user_guide/troubleshooting.html\n"
      },
      "image/png": "[encoded data removed]"
     },
     "execution_count": 3,
     "metadata": {},
     "output_type": "execute_result"
    }
   ],
   "source": [
    "brush = alt.selection_interval(name='brush')\n",
    "\n",
    "multi_chart = alt.Chart(df).mark_point().encode(\n",
    "    x=alt.X('Beak Length (mm):Q', scale=alt.Scale(zero=False)),\n",
    "    y=alt.Y('Beak Depth (mm):Q', scale=alt.Scale(zero=False)),\n",
    "    color=alt.condition(brush, 'Species:N', alt.value('lightgray'))\n",
    ").properties(\n",
    "    width=250,\n",
    "    height=250\n",
    ").add_selection(\n",
    "    brush\n",
    ")\n",
    "\n",
    "multi_chart"
   ]
  }
 ],
 "metadata": {
  "kernelspec": {
   "display_name": "Python 3 (ipykernel)",
   "language": "python",
   "name": "python3"
  },
  "language_info": {
   "codemirror_mode": {
    "name": "ipython",
    "version": 3
   },
   "file_extension": ".py",
   "mimetype": "text/x-python",
   "name": "python",
   "nbconvert_exporter": "python",
   "pygments_lexer": "ipython3",
   "version": "3.11.2"
  },
  "toc-autonumbering": false,
  "toc-showtags": false
 },
 "nbformat": 4,
 "nbformat_minor": 5
}
