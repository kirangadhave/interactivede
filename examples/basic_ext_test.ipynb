{
 "cells": [
  {
   "cell_type": "code",
   "execution_count": 1,
   "id": "e6ffbf47-e96a-475f-b64b-92415281135e",
   "metadata": {
    "tags": [],
    "trrack_graph": "{\"nodes\":{\"b4ffa61a-7c75-4f24-913a-5526199e665b\":{\"id\":\"b4ffa61a-7c75-4f24-913a-5526199e665b\",\"label\":\"Root\",\"children\":[],\"level\":0,\"meta\":{\"createdOn\":1677535089750,\"eventType\":\"Root\"},\"state\":{\"type\":\"checkpoint\",\"val\":{\"msg\":\"Hello, World!\",\"interactions\":[]}}}},\"root\":\"b4ffa61a-7c75-4f24-913a-5526199e665b\",\"current\":\"b4ffa61a-7c75-4f24-913a-5526199e665b\"}"
   },
   "outputs": [
    {
     "name": "stdout",
     "output_type": "stream",
     "text": [
      "Loaded InteractiveDE extension version 1.0.1a0\n",
      "Extension enabled for altair\n"
     ]
    }
   ],
   "source": [
    "import altair as alt\n",
    "import pandas as pd\n",
    "\n",
    "import interactivede.ide as IDE # Our library\n",
    "from interactivede.internal import *\n",
    "\n",
    "IDE.enable('altair') # Call this to enable integration with altair"
   ]
  },
  {
   "cell_type": "code",
   "execution_count": 2,
   "id": "a30a9731-1f1d-43c9-8749-dc50f4aee460",
   "metadata": {
    "tags": [],
    "trrack_graph": "{\"nodes\":{\"c4ebbf56-190f-4248-9242-624d86af3433\":{\"id\":\"c4ebbf56-190f-4248-9242-624d86af3433\",\"label\":\"Root\",\"children\":[],\"level\":0,\"meta\":{\"createdOn\":1677535086319,\"eventType\":\"Root\"},\"state\":{\"type\":\"checkpoint\",\"val\":{\"msg\":\"Hello, World!\",\"interactions\":[]}}}},\"root\":\"c4ebbf56-190f-4248-9242-624d86af3433\",\"current\":\"c4ebbf56-190f-4248-9242-624d86af3433\"}"
   },
   "outputs": [],
   "source": [
    "penguins_url = \"https://raw.githubusercontent.com/vega/vega/master/docs/data/penguins.json\""
   ]
  },
  {
   "cell_type": "code",
   "execution_count": 3,
   "id": "dbab0fae-1d2e-4786-b464-d7d73c14a8a8",
   "metadata": {
    "original_spec": {
     "$schema": "https://vega.github.io/schema/vega-lite/v4.17.0.json",
     "config": {
      "view": {
       "continuousHeight": 300,
       "continuousWidth": 400
      }
     },
     "data": {
      "url": "https://raw.githubusercontent.com/vega/vega/master/docs/data/penguins.json"
     },
     "encoding": {
      "color": {
       "condition": {
        "field": "Species",
        "selection": "brush",
        "type": "nominal"
       },
       "value": "lightgray"
      },
      "x": {
       "field": "Beak Length (mm)",
       "scale": {
        "zero": false
       },
       "type": "quantitative"
      },
      "y": {
       "field": "Beak Depth (mm)",
       "scale": {
        "zero": false
       },
       "type": "quantitative"
      }
     },
     "height": 400,
     "mark": "point",
     "selection": {
      "brush": {
       "type": "interval"
      }
     },
     "width": 400
    },
    "tags": [],
    "trrack_graph": "{\"nodes\":{\"5a2777ca-46be-4003-9926-2f867063a122\":{\"id\":\"5a2777ca-46be-4003-9926-2f867063a122\",\"label\":\"Root\",\"children\":[\"a2de777a-a1e1-46f6-8ae8-39b81189b70c\"],\"level\":0,\"meta\":{\"createdOn\":1678311004462,\"eventType\":\"Root\"},\"state\":{\"type\":\"checkpoint\",\"val\":{\"msg\":\"Hello, World!\",\"interactions\":[]}}},\"a2de777a-a1e1-46f6-8ae8-39b81189b70c\":{\"id\":\"a2de777a-a1e1-46f6-8ae8-39b81189b70c\",\"label\":\"Brush selection\",\"children\":[\"365d8b4b-20cc-492a-b123-bf97a739246d\"],\"parent\":\"5a2777ca-46be-4003-9926-2f867063a122\",\"meta\":{\"createdOn\":1678311011776,\"eventType\":\"interaction\"},\"sideEffects\":{\"do\":[],\"undo\":[]},\"state\":{\"type\":\"checkpoint\",\"val\":{\"msg\":\"Hello, World!\",\"interactions\":[{\"id\":\"95fed01c-4aff-4cc1-a464-99a850c6490d\",\"type\":\"selection_interval\",\"name\":\"brush\",\"path\":\"/selection/brush\",\"params\":{\"selection\":{\"Beak Length (mm)\":[34.14666666666667,42.45333333333333],\"Beak Depth (mm)\":[17.89,20.200000000000003]},\"x\":[23,112],\"y\":[60,137]},\"spec\":{\"config\":{\"view\":{\"continuousWidth\":400,\"continuousHeight\":300}},\"data\":{\"url\":\"https://raw.githubusercontent.com/vega/vega/master/docs/data/penguins.json\"},\"mark\":\"point\",\"encoding\":{\"color\":{\"condition\":{\"field\":\"Species\",\"type\":\"nominal\",\"selection\":\"brush\"},\"value\":\"lightgray\"},\"x\":{\"field\":\"Beak Length (mm)\",\"scale\":{\"zero\":false},\"type\":\"quantitative\"},\"y\":{\"field\":\"Beak Depth (mm)\",\"scale\":{\"zero\":false},\"type\":\"quantitative\"}},\"height\":300,\"selection\":{\"brush\":{\"type\":\"interval\",\"init\":{\"Beak Length (mm)\":[34.14666666666667,42.45333333333333],\"Beak Depth (mm)\":[17.89,20.200000000000003]}}},\"width\":300,\"$schema\":\"https://vega.github.io/schema/vega-lite/v4.17.0.json\"}}]}},\"level\":1},\"365d8b4b-20cc-492a-b123-bf97a739246d\":{\"id\":\"365d8b4b-20cc-492a-b123-bf97a739246d\",\"label\":\"filter\",\"children\":[],\"parent\":\"a2de777a-a1e1-46f6-8ae8-39b81189b70c\",\"meta\":{\"createdOn\":1678311012497,\"eventType\":\"interaction\"},\"sideEffects\":{\"do\":[],\"undo\":[]},\"state\":{\"type\":\"checkpoint\",\"val\":{\"msg\":\"Hello, World!\",\"interactions\":[{\"id\":\"95fed01c-4aff-4cc1-a464-99a850c6490d\",\"type\":\"selection_interval\",\"name\":\"brush\",\"path\":\"/selection/brush\",\"params\":{\"selection\":{\"Beak Length (mm)\":[34.14666666666667,42.45333333333333],\"Beak Depth (mm)\":[17.89,20.200000000000003]},\"x\":[23,112],\"y\":[60,137]},\"spec\":{\"config\":{\"view\":{\"continuousWidth\":400,\"continuousHeight\":300}},\"data\":{\"url\":\"https://raw.githubusercontent.com/vega/vega/master/docs/data/penguins.json\"},\"mark\":\"point\",\"encoding\":{\"color\":{\"condition\":{\"field\":\"Species\",\"type\":\"nominal\",\"selection\":\"brush\"},\"value\":\"lightgray\"},\"x\":{\"field\":\"Beak Length (mm)\",\"scale\":{\"zero\":false},\"type\":\"quantitative\"},\"y\":{\"field\":\"Beak Depth (mm)\",\"scale\":{\"zero\":false},\"type\":\"quantitative\"}},\"height\":300,\"selection\":{\"brush\":{\"type\":\"interval\",\"init\":{\"Beak Length (mm)\":[34.14666666666667,42.45333333333333],\"Beak Depth (mm)\":[17.89,20.200000000000003]}}},\"width\":300,\"$schema\":\"https://vega.github.io/schema/vega-lite/v4.17.0.json\"}},{\"id\":\"02c49d03-c012-4310-a65e-375a704b49d1\",\"type\":\"filter\",\"path\":\"\",\"spec\":{\"config\":{\"view\":{\"continuousWidth\":400,\"continuousHeight\":300}},\"data\":{\"url\":\"https://raw.githubusercontent.com/vega/vega/master/docs/data/penguins.json\"},\"mark\":\"point\",\"encoding\":{\"color\":{\"condition\":{\"field\":\"Species\",\"type\":\"nominal\",\"selection\":\"brush\"},\"value\":\"lightgray\"},\"x\":{\"field\":\"Beak Length (mm)\",\"scale\":{\"zero\":false},\"type\":\"quantitative\"},\"y\":{\"field\":\"Beak Depth (mm)\",\"scale\":{\"zero\":false},\"type\":\"quantitative\"}},\"height\":300,\"selection\":{\"brush\":{\"type\":\"interval\"}},\"width\":300,\"$schema\":\"https://vega.github.io/schema/vega-lite/v4.17.0.json\",\"transform\":[{\"filter\":{\"and\":[{\"not\":{\"and\":[{\"field\":\"Beak Length (mm)\",\"range\":[34.14666666666667,42.45333333333333]},{\"field\":\"Beak Depth (mm)\",\"range\":[17.89,20.200000000000003]}]}}]}}]}}]}},\"level\":2}},\"root\":\"5a2777ca-46be-4003-9926-2f867063a122\",\"current\":\"365d8b4b-20cc-492a-b123-bf97a739246d\"}"
   },
   "outputs": [
    {
     "data": {
      "application/vnd.trrack+json": {
       "application/vnd.trrack.graph+json": "dbab0fae-1d2e-4786-b464-d7d73c14a8a8",
       "application/vnd.vegalite.v4+json": {
        "$schema": "https://vega.github.io/schema/vega-lite/v4.17.0.json",
        "config": {
         "view": {
          "continuousHeight": 300,
          "continuousWidth": 400
         }
        },
        "data": {
         "url": "https://raw.githubusercontent.com/vega/vega/master/docs/data/penguins.json"
        },
        "encoding": {
         "color": {
          "condition": {
           "field": "Species",
           "selection": "brush",
           "type": "nominal"
          },
          "value": "lightgray"
         },
         "x": {
          "field": "Beak Length (mm)",
          "scale": {
           "zero": false
          },
          "type": "quantitative"
         },
         "y": {
          "field": "Beak Depth (mm)",
          "scale": {
           "zero": false
          },
          "type": "quantitative"
         }
        },
        "height": 300,
        "mark": "point",
        "selection": {
         "brush": {
          "type": "interval"
         }
        },
        "transform": [
         {
          "filter": {
           "and": [
            {
             "not": {
              "and": [
               {
                "field": "Beak Length (mm)",
                "range": [
                 34.14666666666667,
                 42.45333333333333
                ]
               },
               {
                "field": "Beak Depth (mm)",
                "range": [
                 17.89,
                 20.200000000000003
                ]
               }
              ]
             }
            }
           ]
          }
         }
        ],
        "width": 300
       }
      }
     },
     "execution_count": 3,
     "metadata": {},
     "output_type": "execute_result"
    }
   ],
   "source": [
    "# All of the code here is pure altair. The library does not need any custom syntax\n",
    "\n",
    "brush = alt.selection_interval(name='brush') # define a type of selection\n",
    "\n",
    "# create a scatterplot\n",
    "chart = alt.Chart(penguins_url).mark_point().encode(\n",
    "    x=alt.X('Beak Length (mm):Q', scale=alt.Scale(zero=False)),\n",
    "    y=alt.Y('Beak Depth (mm):Q', scale=alt.Scale(zero=False)),\n",
    "    color=alt.condition(brush, 'Species:N', alt.value('lightgray'))\n",
    ").properties(\n",
    "    width=300,\n",
    "    height=300\n",
    ").add_selection(\n",
    "    brush # Connect the brush selection to scatterplot\n",
    ")\n",
    "\n",
    "chart"
   ]
  }
 ],
 "metadata": {
  "ide-event-log": [
   {
    "date": "2023-03-08T00:33:07.226Z",
    "name": "logging initialized"
   }
  ],
  "kernelspec": {
   "display_name": "Python 3 (ipykernel)",
   "language": "python",
   "name": "python3"
  },
  "language_info": {
   "codemirror_mode": {
    "name": "ipython",
    "version": 3
   },
   "file_extension": ".py",
   "mimetype": "text/x-python",
   "name": "python",
   "nbconvert_exporter": "python",
   "pygments_lexer": "ipython3",
   "version": "3.8.16"
  },
  "toc-autonumbering": false,
  "toc-showtags": false
 },
 "nbformat": 4,
 "nbformat_minor": 5
}
