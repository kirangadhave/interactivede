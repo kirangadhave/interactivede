{
 "cells": [
  {
   "cell_type": "code",
   "execution_count": null,
   "id": "e6ffbf47-e96a-475f-b64b-92415281135e",
   "metadata": {
    "tags": [],
    "trrack_graph": "{\"nodes\":{\"b4ffa61a-7c75-4f24-913a-5526199e665b\":{\"id\":\"b4ffa61a-7c75-4f24-913a-5526199e665b\",\"label\":\"Root\",\"children\":[],\"level\":0,\"meta\":{\"createdOn\":1677535089750,\"eventType\":\"Root\"},\"state\":{\"type\":\"checkpoint\",\"val\":{\"msg\":\"Hello, World!\",\"interactions\":[]}}}},\"root\":\"b4ffa61a-7c75-4f24-913a-5526199e665b\",\"current\":\"b4ffa61a-7c75-4f24-913a-5526199e665b\"}"
   },
   "outputs": [],
   "source": [
    "import altair as alt\n",
    "import pandas as pd\n",
    "\n",
    "import interactivede.ide as IDE # Our library\n",
    "from interactivede.internal import *\n",
    "\n",
    "IDE.enable('altair') # Call this to enable integration with altair"
   ]
  },
  {
   "cell_type": "code",
   "execution_count": null,
   "id": "a30a9731-1f1d-43c9-8749-dc50f4aee460",
   "metadata": {
    "tags": [],
    "trrack_graph": "{\"nodes\":{\"c4ebbf56-190f-4248-9242-624d86af3433\":{\"id\":\"c4ebbf56-190f-4248-9242-624d86af3433\",\"label\":\"Root\",\"children\":[],\"level\":0,\"meta\":{\"createdOn\":1677535086319,\"eventType\":\"Root\"},\"state\":{\"type\":\"checkpoint\",\"val\":{\"msg\":\"Hello, World!\",\"interactions\":[]}}}},\"root\":\"c4ebbf56-190f-4248-9242-624d86af3433\",\"current\":\"c4ebbf56-190f-4248-9242-624d86af3433\"}"
   },
   "outputs": [],
   "source": [
    "penguins_url = \"https://raw.githubusercontent.com/vega/vega/master/docs/data/penguins.json\""
   ]
  },
  {
   "cell_type": "code",
   "execution_count": null,
   "id": "dbab0fae-1d2e-4786-b464-d7d73c14a8a8",
   "metadata": {
    "original_spec": {
     "$schema": "https://vega.github.io/schema/vega-lite/v4.17.0.json",
     "config": {
      "view": {
       "continuousHeight": 300,
       "continuousWidth": 400
      }
     },
     "data": {
      "url": "https://raw.githubusercontent.com/vega/vega/master/docs/data/penguins.json"
     },
     "encoding": {
      "color": {
       "condition": {
        "field": "Species",
        "selection": "brush",
        "type": "nominal"
       },
       "value": "lightgray"
      },
      "x": {
       "field": "Beak Length (mm)",
       "scale": {
        "zero": false
       },
       "type": "quantitative"
      },
      "y": {
       "field": "Beak Depth (mm)",
       "scale": {
        "zero": false
       },
       "type": "quantitative"
      }
     },
     "height": 400,
     "mark": "point",
     "selection": {
      "brush": {
       "type": "interval"
      }
     },
     "width": 400
    },
    "tags": [],
    "trrack_graph": "{\"nodes\":{\"e4c7f233-cc4c-475f-8262-d44080bbd94a\":{\"id\":\"e4c7f233-cc4c-475f-8262-d44080bbd94a\",\"label\":\"Root\",\"children\":[],\"level\":0,\"meta\":{\"createdOn\":1677816336762,\"eventType\":\"Root\"},\"state\":{\"type\":\"checkpoint\",\"val\":{\"msg\":\"Hello, World!\",\"interactions\":[]}}}},\"root\":\"e4c7f233-cc4c-475f-8262-d44080bbd94a\",\"current\":\"e4c7f233-cc4c-475f-8262-d44080bbd94a\"}"
   },
   "outputs": [],
   "source": [
    "# All of the code here is pure altair. The library does not need any custom syntax\n",
    "\n",
    "brush = alt.selection_interval(name='brush') # define a type of selection\n",
    "\n",
    "# create a scatterplot\n",
    "chart = alt.Chart(penguins_url).mark_point().encode(\n",
    "    x=alt.X('Beak Length (mm):Q', scale=alt.Scale(zero=False)),\n",
    "    y=alt.Y('Beak Depth (mm):Q', scale=alt.Scale(zero=False)),\n",
    "    color=alt.condition(brush, 'Species:N', alt.value('lightgray'))\n",
    ").properties(\n",
    "    width=400,\n",
    "    height=400\n",
    ").add_selection(\n",
    "    brush # Connect the brush selection to scatterplot\n",
    ")\n",
    "\n",
    "chart"
   ]
  },
  {
   "cell_type": "code",
   "execution_count": null,
   "id": "12fdcdcd-4a2c-4b79-9426-4897206738be",
   "metadata": {
    "trrack_graph": "{\"nodes\":{\"7f4b7748-ca16-4eef-b4aa-6bc760d5ccf0\":{\"id\":\"7f4b7748-ca16-4eef-b4aa-6bc760d5ccf0\",\"label\":\"Root\",\"children\":[],\"level\":0,\"meta\":{\"createdOn\":1677689983449,\"eventType\":\"Root\"},\"state\":{\"type\":\"checkpoint\",\"val\":{\"msg\":\"Hello, World!\",\"interactions\":[]}}}},\"root\":\"7f4b7748-ca16-4eef-b4aa-6bc760d5ccf0\",\"current\":\"7f4b7748-ca16-4eef-b4aa-6bc760d5ccf0\"}"
   },
   "outputs": [],
   "source": [
    "ext_df"
   ]
  }
 ],
 "metadata": {
  "kernelspec": {
   "display_name": "Python 3 (ipykernel)",
   "language": "python",
   "name": "python3"
  },
  "language_info": {
   "codemirror_mode": {
    "name": "ipython",
    "version": 3
   },
   "file_extension": ".py",
   "mimetype": "text/x-python",
   "name": "python",
   "nbconvert_exporter": "python",
   "pygments_lexer": "ipython3",
   "version": "3.11.2"
  },
  "toc-autonumbering": false,
  "toc-showtags": false
 },
 "nbformat": 4,
 "nbformat_minor": 5
}
